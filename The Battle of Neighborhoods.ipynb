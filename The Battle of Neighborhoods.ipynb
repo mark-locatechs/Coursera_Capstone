{
    "cells": [
        {
            "cell_type": "markdown",
            "metadata": {
                "collapsed": true
            },
            "source": "# Capstone Project - The Battle of Neighborhoods (Week 1-2)\n\n## Introduction\n\n### Background\n\nLondon is considered to be one of the world's most important global cities and has been called the world's most powerful, most desirable, most influential, most visited, most expensive, innovative, sustainable, most investment-friendly, and most-popular-for-work city.\n\nLondon attract lots of new inhabitants, new investors each year because above reasons.\n\n### Problem\n\nLondon is a huge city, not everyone known London well before they go there. It is risky to move to a place you barely known.\n\nThis report addressed this problem and provide a investment guide to people who want to open a shop or restaurant in London. \n\nIt supposed to help those people to have a general business view of London. So, they can better decide where they are going.\n\n### Assumptions\n\nUsually businesses are grouped together, people like to go to clustered shops or restaurant to have a wider range of choices hence more efficient shopping/eating experience. If you want to open a shop/restaurant, I assume it is safer to go to those places which already have shops/restaurants to minimize the risk.\n\nBesides that, richer neighborhoods usually have higher spending power, you would like to setup your business there to maximize the revenue. In this case, I assume higher house sales price will indicate higher spending power.\n\nSo, this report are based on two assumptions:\n1. More similar business at the same place indicates lesser risk.\n2. Higher average house sales price indicates higher revenue.\n\n\n## Data\n\nTo achieve the goal of minimal risk and maximal revenue. I need different sources of data.\n\n- List of boroughs can be obtained on Wikipedia. https://en.wikipedia.org/wiki/List_of_London_boroughs\n    - Borough names and geo coordinates can be found here, geo coordinates will be used in foursquare API to find recommended venues.\n- Areas list on Wikipedia https://en.wikipedia.org/wiki/List_of_areas_of_London\n    - Postcode to boroughs mapping can be extracted here, Postcode will be used in house sales data to find house price of that postcode then that borough.\n- By using foursquare API, list of recommended venues can be fetched base on above coordinates. https://api.foursquare.com/v2/venues/explore\n    - List of top venues of each borough can be found here to decide the functionality of a borough\n- House sale price data on Land registry of UK, I will use most recent data from year 2019. http://prod1.publicdata.landregistry.gov.uk.s3-website-eu-west-1.amazonaws.com/pp-2019.csv\n    - Postcode to house sale price mapping can be extracted here.\n"
        },
        {
            "cell_type": "code",
            "execution_count": null,
            "metadata": {},
            "outputs": [],
            "source": "#!wget http://prod1.publicdata.landregistry.gov.uk.s3-website-eu-west-1.amazonaws.com/pp-2019.csv"
        },
        {
            "cell_type": "code",
            "execution_count": 14,
            "metadata": {},
            "outputs": [],
            "source": "# The code was removed by Watson Studio for sharing."
        },
        {
            "cell_type": "code",
            "execution_count": 15,
            "metadata": {},
            "outputs": [
                {
                    "data": {
                        "text/plain": "(57316, 16)"
                    },
                    "execution_count": 15,
                    "metadata": {},
                    "output_type": "execute_result"
                }
            ],
            "source": "df_data_0 = pd.read_csv(body, names=['TUID', 'Price', 'Date_Transfer', 'Postcode', 'Prop_Type', 'Old_New', 'Duration', 'PAON', 'SAON', 'Street', 'Locality', 'Town_City', 'District', 'County', 'PPD_Cat_Type', 'Record_Status'])\ndf_data_0.head()\ndf_london = df_data_0[df_data_0['Town_City'] == 'LONDON']\ndf_london.shape\n"
        },
        {
            "cell_type": "code",
            "execution_count": 16,
            "metadata": {},
            "outputs": [
                {
                    "data": {
                        "text/html": "<div>\n<style scoped>\n    .dataframe tbody tr th:only-of-type {\n        vertical-align: middle;\n    }\n\n    .dataframe tbody tr th {\n        vertical-align: top;\n    }\n\n    .dataframe thead th {\n        text-align: right;\n    }\n</style>\n<table border=\"1\" class=\"dataframe\">\n  <thead>\n    <tr style=\"text-align: right;\">\n      <th></th>\n      <th>TUID</th>\n      <th>Price</th>\n      <th>Date_Transfer</th>\n      <th>Postcode</th>\n      <th>Prop_Type</th>\n      <th>Old_New</th>\n      <th>Duration</th>\n      <th>PAON</th>\n      <th>SAON</th>\n      <th>Street</th>\n      <th>Locality</th>\n      <th>Town_City</th>\n      <th>District</th>\n      <th>County</th>\n      <th>PPD_Cat_Type</th>\n      <th>Record_Status</th>\n    </tr>\n  </thead>\n  <tbody>\n    <tr>\n      <th>285</th>\n      <td>{8CAC1318-AFF3-0253-E053-6B04A8C08E51}</td>\n      <td>1100000</td>\n      <td>2019-06-07 00:00</td>\n      <td>SW19 8BN</td>\n      <td>T</td>\n      <td>N</td>\n      <td>F</td>\n      <td>30</td>\n      <td>NaN</td>\n      <td>ASHEN GROVE</td>\n      <td>NaN</td>\n      <td>LONDON</td>\n      <td>MERTON</td>\n      <td>GREATER LONDON</td>\n      <td>A</td>\n      <td>A</td>\n    </tr>\n    <tr>\n      <th>287</th>\n      <td>{8CAC1318-AFF5-0253-E053-6B04A8C08E51}</td>\n      <td>905000</td>\n      <td>2019-06-20 00:00</td>\n      <td>SW19 8BH</td>\n      <td>T</td>\n      <td>N</td>\n      <td>F</td>\n      <td>35</td>\n      <td>NaN</td>\n      <td>DURNSFORD AVENUE</td>\n      <td>NaN</td>\n      <td>LONDON</td>\n      <td>MERTON</td>\n      <td>GREATER LONDON</td>\n      <td>A</td>\n      <td>A</td>\n    </tr>\n    <tr>\n      <th>294</th>\n      <td>{8CAC1318-AFFC-0253-E053-6B04A8C08E51}</td>\n      <td>1440000</td>\n      <td>2019-06-07 00:00</td>\n      <td>SW13 8DL</td>\n      <td>T</td>\n      <td>N</td>\n      <td>F</td>\n      <td>29</td>\n      <td>NaN</td>\n      <td>MERTHYR TERRACE</td>\n      <td>NaN</td>\n      <td>LONDON</td>\n      <td>RICHMOND UPON THAMES</td>\n      <td>GREATER LONDON</td>\n      <td>A</td>\n      <td>A</td>\n    </tr>\n    <tr>\n      <th>382</th>\n      <td>{8355F009-B3C5-55C5-E053-6B04A8C0D090}</td>\n      <td>1800000</td>\n      <td>2019-02-04 00:00</td>\n      <td>SW1V 4NU</td>\n      <td>T</td>\n      <td>N</td>\n      <td>F</td>\n      <td>89</td>\n      <td>NaN</td>\n      <td>WINCHESTER STREET</td>\n      <td>NaN</td>\n      <td>LONDON</td>\n      <td>CITY OF WESTMINSTER</td>\n      <td>GREATER LONDON</td>\n      <td>B</td>\n      <td>A</td>\n    </tr>\n    <tr>\n      <th>489</th>\n      <td>{8F1B26BD-4595-53DB-E053-6C04A8C03649}</td>\n      <td>340000</td>\n      <td>2019-07-15 00:00</td>\n      <td>N1 9BT</td>\n      <td>F</td>\n      <td>N</td>\n      <td>L</td>\n      <td>75</td>\n      <td>FLAT 4</td>\n      <td>CALEDONIAN ROAD</td>\n      <td>NaN</td>\n      <td>LONDON</td>\n      <td>ISLINGTON</td>\n      <td>GREATER LONDON</td>\n      <td>A</td>\n      <td>A</td>\n    </tr>\n  </tbody>\n</table>\n</div>",
                        "text/plain": "                                       TUID    Price     Date_Transfer  \\\n285  {8CAC1318-AFF3-0253-E053-6B04A8C08E51}  1100000  2019-06-07 00:00   \n287  {8CAC1318-AFF5-0253-E053-6B04A8C08E51}   905000  2019-06-20 00:00   \n294  {8CAC1318-AFFC-0253-E053-6B04A8C08E51}  1440000  2019-06-07 00:00   \n382  {8355F009-B3C5-55C5-E053-6B04A8C0D090}  1800000  2019-02-04 00:00   \n489  {8F1B26BD-4595-53DB-E053-6C04A8C03649}   340000  2019-07-15 00:00   \n\n     Postcode Prop_Type Old_New Duration PAON    SAON             Street  \\\n285  SW19 8BN         T       N        F   30     NaN        ASHEN GROVE   \n287  SW19 8BH         T       N        F   35     NaN   DURNSFORD AVENUE   \n294  SW13 8DL         T       N        F   29     NaN    MERTHYR TERRACE   \n382  SW1V 4NU         T       N        F   89     NaN  WINCHESTER STREET   \n489    N1 9BT         F       N        L   75  FLAT 4    CALEDONIAN ROAD   \n\n    Locality Town_City              District          County PPD_Cat_Type  \\\n285      NaN    LONDON                MERTON  GREATER LONDON            A   \n287      NaN    LONDON                MERTON  GREATER LONDON            A   \n294      NaN    LONDON  RICHMOND UPON THAMES  GREATER LONDON            A   \n382      NaN    LONDON   CITY OF WESTMINSTER  GREATER LONDON            B   \n489      NaN    LONDON             ISLINGTON  GREATER LONDON            A   \n\n    Record_Status  \n285             A  \n287             A  \n294             A  \n382             A  \n489             A  "
                    },
                    "execution_count": 16,
                    "metadata": {},
                    "output_type": "execute_result"
                }
            ],
            "source": "df_london.head()"
        },
        {
            "cell_type": "code",
            "execution_count": null,
            "metadata": {},
            "outputs": [],
            "source": ""
        },
        {
            "cell_type": "code",
            "execution_count": null,
            "metadata": {},
            "outputs": [],
            "source": ""
        },
        {
            "cell_type": "code",
            "execution_count": null,
            "metadata": {},
            "outputs": [],
            "source": ""
        }
    ],
    "metadata": {
        "kernelspec": {
            "display_name": "Python 3.6",
            "language": "python",
            "name": "python3"
        },
        "language_info": {
            "codemirror_mode": {
                "name": "ipython",
                "version": 3
            },
            "file_extension": ".py",
            "mimetype": "text/x-python",
            "name": "python",
            "nbconvert_exporter": "python",
            "pygments_lexer": "ipython3",
            "version": "3.6.9"
        }
    },
    "nbformat": 4,
    "nbformat_minor": 1
}