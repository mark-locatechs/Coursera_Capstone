{
    "cells": [
        {
            "cell_type": "markdown",
            "metadata": {
                "collapsed": true
            },
            "source": "# Capstone Project - The Battle of Neighborhoods (Week 1-2)\n\n## Introduction\n\n### Background\n\nLondon is considered to be one of the world's most important global cities and has been called the world's most powerful, most desirable, most influential, most visited, most expensive, innovative, sustainable, most investment-friendly, and most-popular-for-work city.\n\nLondon attract lots of new inhabitants, new investors each year because above reasons.\n\n### Problem\n\nLondon is a huge city, not everyone known London well before they come there. It is risky to move to a place you barely known.\n\nThis report is a investment guide to people who want to open a shop or restaurant in London. \n\nIt supposed to help those people to have a general business view of London. So, they can better decide where they are going.\n\n### Assumptions\n\nUsually businesses are grouped together, people like to go to clustered shops or restaurant to have a wider range of choices hence more efficient shopping/eating experience. If you want to open a shop/restaurant, I assume it is safer to go to those places which already have shops/restaurants to minimize the risk.\n\nBesides that, richer neighborhoods usually have higher spending power, you would like to setup your business there to maximize the revenue. In this case, I assume higher house sales price will indicate higher spending power.\n\nSo, this report are based on two assumptions:\n1. More similar business at the same place indicates lesser risk.\n2. Higher average house sales price indicates higher revenue.\n\n\n## Data\n\nTo achieve the goal of minimal risk and maximal revenue. I need different sources of data.\n\n- List of boroughs can be obtained on Wikipedia. https://en.wikipedia.org/wiki/List_of_London_boroughs\n    - Borough names and geo coordinates can be found here, geo coordinates will be used in foursquare API to find recommended venues.\n- Areas list on Wikipedia https://en.wikipedia.org/wiki/List_of_areas_of_London\n    - Postcode to boroughs mapping can be extracted here, Postcode will be used in house sales data to find house price of that postcode then that borough.\n- By using foursquare API, list of recommended venues can be fetched base on above coordinates. https://api.foursquare.com/v2/venues/explore\n    - List of top venues of each borough can be found here to decide the functionality of a borough\n- House sale price data on Land registry of UK, I will use most recent data from year 2019. http://prod1.publicdata.landregistry.gov.uk.s3-website-eu-west-1.amazonaws.com/pp-2019.csv\n    - Postcode to house sale price mapping can be extracted here.\n"
        },
        {
            "cell_type": "raw",
            "metadata": {},
            "source": ""
        },
        {
            "cell_type": "code",
            "execution_count": 1,
            "metadata": {},
            "outputs": [
                {
                    "name": "stdout",
                    "output_type": "stream",
                    "text": "--2020-03-15 21:22:08--  http://prod1.publicdata.landregistry.gov.uk.s3-website-eu-west-1.amazonaws.com/pp-2019.csv\nResolving prod1.publicdata.landregistry.gov.uk.s3-website-eu-west-1.amazonaws.com (prod1.publicdata.landregistry.gov.uk.s3-website-eu-west-1.amazonaws.com)... 52.218.65.58\nConnecting to prod1.publicdata.landregistry.gov.uk.s3-website-eu-west-1.amazonaws.com (prod1.publicdata.landregistry.gov.uk.s3-website-eu-west-1.amazonaws.com)|52.218.65.58|:80... connected.\nHTTP request sent, awaiting response... 200 OK\nLength: 162089122 (155M) [text/csv]\nSaving to: \u2018pp-2019.csv\u2019\n\n100%[======================================>] 162,089,122 72.4MB/s   in 2.1s   \n\n2020-03-15 21:22:10 (72.4 MB/s) - \u2018pp-2019.csv\u2019 saved [162089122/162089122]\n\n"
                }
            ],
            "source": "#!wget http://prod1.publicdata.landregistry.gov.uk.s3-website-eu-west-1.amazonaws.com/pp-2019.csv"
        },
        {
            "cell_type": "code",
            "execution_count": 2,
            "metadata": {},
            "outputs": [],
            "source": "import pandas as pd"
        },
        {
            "cell_type": "code",
            "execution_count": 17,
            "metadata": {},
            "outputs": [
                {
                    "data": {
                        "text/html": "<div>\n<style scoped>\n    .dataframe tbody tr th:only-of-type {\n        vertical-align: middle;\n    }\n\n    .dataframe tbody tr th {\n        vertical-align: top;\n    }\n\n    .dataframe thead th {\n        text-align: right;\n    }\n</style>\n<table border=\"1\" class=\"dataframe\">\n  <thead>\n    <tr style=\"text-align: right;\">\n      <th></th>\n      <th>TUID</th>\n      <th>Price</th>\n      <th>Date_Transfer</th>\n      <th>Postcode</th>\n      <th>Prop_Type</th>\n      <th>Old_New</th>\n      <th>Duration</th>\n      <th>PAON</th>\n      <th>SAON</th>\n      <th>Street</th>\n      <th>Locality</th>\n      <th>Town_City</th>\n      <th>District</th>\n      <th>County</th>\n      <th>PPD_Cat_Type</th>\n      <th>Record_Status</th>\n    </tr>\n  </thead>\n  <tbody>\n    <tr>\n      <th>0</th>\n      <td>{8355F009-BD69-55C5-E053-6B04A8C0D090}</td>\n      <td>130000</td>\n      <td>2019-01-14 00:00</td>\n      <td>BH2 5PS</td>\n      <td>O</td>\n      <td>N</td>\n      <td>L</td>\n      <td>44 - 46</td>\n      <td>NaN</td>\n      <td>POOLE HILL</td>\n      <td>NaN</td>\n      <td>BOURNEMOUTH</td>\n      <td>BOURNEMOUTH</td>\n      <td>BOURNEMOUTH</td>\n      <td>B</td>\n      <td>A</td>\n    </tr>\n    <tr>\n      <th>1</th>\n      <td>{8355F009-BD6C-55C5-E053-6B04A8C0D090}</td>\n      <td>396000</td>\n      <td>2019-01-31 00:00</td>\n      <td>SP8 4HB</td>\n      <td>O</td>\n      <td>N</td>\n      <td>F</td>\n      <td>DOLPHIN INN</td>\n      <td>NaN</td>\n      <td>PEACEMARSH</td>\n      <td>NaN</td>\n      <td>GILLINGHAM</td>\n      <td>NORTH DORSET</td>\n      <td>DORSET</td>\n      <td>B</td>\n      <td>A</td>\n    </tr>\n    <tr>\n      <th>2</th>\n      <td>{8355F009-BD6D-55C5-E053-6B04A8C0D090}</td>\n      <td>197500</td>\n      <td>2019-01-11 00:00</td>\n      <td>SP8 4EQ</td>\n      <td>D</td>\n      <td>N</td>\n      <td>F</td>\n      <td>14</td>\n      <td>NaN</td>\n      <td>SYLVAN WAY</td>\n      <td>NaN</td>\n      <td>GILLINGHAM</td>\n      <td>NORTH DORSET</td>\n      <td>DORSET</td>\n      <td>B</td>\n      <td>A</td>\n    </tr>\n    <tr>\n      <th>3</th>\n      <td>{8355F009-BD6E-55C5-E053-6B04A8C0D090}</td>\n      <td>230000</td>\n      <td>2019-01-28 00:00</td>\n      <td>BH4 9JY</td>\n      <td>F</td>\n      <td>N</td>\n      <td>L</td>\n      <td>WHEATON GRANGE, 16</td>\n      <td>FLAT 6</td>\n      <td>BRANKSOME WOOD ROAD</td>\n      <td>NaN</td>\n      <td>BOURNEMOUTH</td>\n      <td>BOURNEMOUTH</td>\n      <td>BOURNEMOUTH</td>\n      <td>B</td>\n      <td>A</td>\n    </tr>\n    <tr>\n      <th>4</th>\n      <td>{8355F009-BD6F-55C5-E053-6B04A8C0D090}</td>\n      <td>215500</td>\n      <td>2019-01-17 00:00</td>\n      <td>BH12 1AW</td>\n      <td>F</td>\n      <td>N</td>\n      <td>L</td>\n      <td>344</td>\n      <td>FLAT 1</td>\n      <td>POOLE ROAD</td>\n      <td>BRANKSOME</td>\n      <td>POOLE</td>\n      <td>POOLE</td>\n      <td>POOLE</td>\n      <td>B</td>\n      <td>A</td>\n    </tr>\n  </tbody>\n</table>\n</div>",
                        "text/plain": "                                     TUID   Price     Date_Transfer  Postcode  \\\n0  {8355F009-BD69-55C5-E053-6B04A8C0D090}  130000  2019-01-14 00:00   BH2 5PS   \n1  {8355F009-BD6C-55C5-E053-6B04A8C0D090}  396000  2019-01-31 00:00   SP8 4HB   \n2  {8355F009-BD6D-55C5-E053-6B04A8C0D090}  197500  2019-01-11 00:00   SP8 4EQ   \n3  {8355F009-BD6E-55C5-E053-6B04A8C0D090}  230000  2019-01-28 00:00   BH4 9JY   \n4  {8355F009-BD6F-55C5-E053-6B04A8C0D090}  215500  2019-01-17 00:00  BH12 1AW   \n\n  Prop_Type Old_New Duration                PAON    SAON               Street  \\\n0         O       N        L             44 - 46     NaN           POOLE HILL   \n1         O       N        F         DOLPHIN INN     NaN           PEACEMARSH   \n2         D       N        F                  14     NaN           SYLVAN WAY   \n3         F       N        L  WHEATON GRANGE, 16  FLAT 6  BRANKSOME WOOD ROAD   \n4         F       N        L                 344  FLAT 1           POOLE ROAD   \n\n    Locality    Town_City      District       County PPD_Cat_Type  \\\n0        NaN  BOURNEMOUTH   BOURNEMOUTH  BOURNEMOUTH            B   \n1        NaN   GILLINGHAM  NORTH DORSET       DORSET            B   \n2        NaN   GILLINGHAM  NORTH DORSET       DORSET            B   \n3        NaN  BOURNEMOUTH   BOURNEMOUTH  BOURNEMOUTH            B   \n4  BRANKSOME        POOLE         POOLE        POOLE            B   \n\n  Record_Status  \n0             A  \n1             A  \n2             A  \n3             A  \n4             A  "
                    },
                    "execution_count": 17,
                    "metadata": {},
                    "output_type": "execute_result"
                }
            ],
            "source": "df = pd.read_csv('pp-2019.csv', names=['TUID', 'Price', 'Date_Transfer', 'Postcode', 'Prop_Type', 'Old_New', 'Duration', 'PAON', 'SAON', 'Street', 'Locality', 'Town_City', 'District', 'County', 'PPD_Cat_Type', 'Record_Status'])\ndf.head()"
        },
        {
            "cell_type": "code",
            "execution_count": 16,
            "metadata": {},
            "outputs": [
                {
                    "data": {
                        "text/plain": "(57316, 16)"
                    },
                    "execution_count": 16,
                    "metadata": {},
                    "output_type": "execute_result"
                }
            ],
            "source": "df_london = df[df['city'] == 'LONDON']\ndf_london.shape"
        },
        {
            "cell_type": "code",
            "execution_count": null,
            "metadata": {},
            "outputs": [],
            "source": ""
        }
    ],
    "metadata": {
        "kernelspec": {
            "display_name": "Python 3.6",
            "language": "python",
            "name": "python3"
        },
        "language_info": {
            "codemirror_mode": {
                "name": "ipython",
                "version": 3
            },
            "file_extension": ".py",
            "mimetype": "text/x-python",
            "name": "python",
            "nbconvert_exporter": "python",
            "pygments_lexer": "ipython3",
            "version": "3.6.9"
        }
    },
    "nbformat": 4,
    "nbformat_minor": 1
}