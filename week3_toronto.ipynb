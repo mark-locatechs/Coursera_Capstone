{
    "cells": [
        {
            "cell_type": "markdown",
            "metadata": {},
            "source": "# Week 3 project"
        },
        {
            "cell_type": "code",
            "execution_count": 1,
            "metadata": {},
            "outputs": [
                {
                    "name": "stdout",
                    "output_type": "stream",
                    "text": "Collecting folium\n\u001b[?25l  Downloading https://files.pythonhosted.org/packages/fd/a0/ccb3094026649cda4acd55bf2c3822bb8c277eb11446d13d384e5be35257/folium-0.10.1-py2.py3-none-any.whl (91kB)\n\u001b[K     |\u2588\u2588\u2588\u2588\u2588\u2588\u2588\u2588\u2588\u2588\u2588\u2588\u2588\u2588\u2588\u2588\u2588\u2588\u2588\u2588\u2588\u2588\u2588\u2588\u2588\u2588\u2588\u2588\u2588\u2588\u2588\u2588| 92kB 8.2MB/s eta 0:00:011\n\u001b[?25hRequirement already satisfied: requests in /opt/conda/envs/Python36/lib/python3.6/site-packages (from folium) (2.21.0)\nCollecting branca>=0.3.0 (from folium)\n  Downloading https://files.pythonhosted.org/packages/81/6d/31c83485189a2521a75b4130f1fee5364f772a0375f81afff619004e5237/branca-0.4.0-py3-none-any.whl\nRequirement already satisfied: jinja2>=2.9 in /opt/conda/envs/Python36/lib/python3.6/site-packages (from folium) (2.10)\nRequirement already satisfied: numpy in /opt/conda/envs/Python36/lib/python3.6/site-packages (from folium) (1.15.4)\nRequirement already satisfied: chardet<3.1.0,>=3.0.2 in /opt/conda/envs/Python36/lib/python3.6/site-packages (from requests->folium) (3.0.4)\nRequirement already satisfied: urllib3<1.25,>=1.21.1 in /opt/conda/envs/Python36/lib/python3.6/site-packages (from requests->folium) (1.24.1)\nRequirement already satisfied: certifi>=2017.4.17 in /opt/conda/envs/Python36/lib/python3.6/site-packages (from requests->folium) (2019.11.28)\nRequirement already satisfied: idna<2.9,>=2.5 in /opt/conda/envs/Python36/lib/python3.6/site-packages (from requests->folium) (2.8)\nRequirement already satisfied: six in /opt/conda/envs/Python36/lib/python3.6/site-packages (from branca>=0.3.0->folium) (1.12.0)\nRequirement already satisfied: MarkupSafe>=0.23 in /opt/conda/envs/Python36/lib/python3.6/site-packages (from jinja2>=2.9->folium) (1.1.0)\nInstalling collected packages: branca, folium\nSuccessfully installed branca-0.4.0 folium-0.10.1\n"
                }
            ],
            "source": "!pip install folium"
        },
        {
            "cell_type": "code",
            "execution_count": 124,
            "metadata": {},
            "outputs": [],
            "source": "from bs4 import BeautifulSoup\nimport requests\nimport pandas as pd\nimport folium\nimport json\nimport geopy.distance\nimport numpy as np\nfrom sklearn.cluster import KMeans"
        },
        {
            "cell_type": "markdown",
            "metadata": {},
            "source": "## Get data from website "
        },
        {
            "cell_type": "code",
            "execution_count": 3,
            "metadata": {},
            "outputs": [],
            "source": "response = requests.get('https://en.wikipedia.org/wiki/List_of_postal_codes_of_Canada:_M')"
        },
        {
            "cell_type": "markdown",
            "metadata": {},
            "source": "## Parse response data and prepare dataframe"
        },
        {
            "cell_type": "code",
            "execution_count": 4,
            "metadata": {},
            "outputs": [],
            "source": "soup = BeautifulSoup(response.text, 'html.parser')\ntable = soup.find_all(class_='wikitable')[0]\ndata = [[td.get_text().strip() for td in tr.find_all(\"td\")] for tr in table.find_all(\"tr\")]"
        },
        {
            "cell_type": "markdown",
            "metadata": {},
            "source": "## Assign data to dataframe and do cleaning"
        },
        {
            "cell_type": "code",
            "execution_count": 5,
            "metadata": {},
            "outputs": [
                {
                    "data": {
                        "text/html": "<div>\n<style scoped>\n    .dataframe tbody tr th:only-of-type {\n        vertical-align: middle;\n    }\n\n    .dataframe tbody tr th {\n        vertical-align: top;\n    }\n\n    .dataframe thead th {\n        text-align: right;\n    }\n</style>\n<table border=\"1\" class=\"dataframe\">\n  <thead>\n    <tr style=\"text-align: right;\">\n      <th></th>\n      <th>PostalCode</th>\n      <th>Borough</th>\n      <th>Neighbourhood</th>\n    </tr>\n  </thead>\n  <tbody>\n    <tr>\n      <th>3</th>\n      <td>M3A</td>\n      <td>North York</td>\n      <td>Parkwoods</td>\n    </tr>\n    <tr>\n      <th>4</th>\n      <td>M4A</td>\n      <td>North York</td>\n      <td>Victoria Village</td>\n    </tr>\n    <tr>\n      <th>5</th>\n      <td>M5A</td>\n      <td>Downtown Toronto</td>\n      <td>Harbourfront</td>\n    </tr>\n    <tr>\n      <th>6</th>\n      <td>M6A</td>\n      <td>North York</td>\n      <td>Lawrence Heights</td>\n    </tr>\n    <tr>\n      <th>7</th>\n      <td>M6A</td>\n      <td>North York</td>\n      <td>Lawrence Manor</td>\n    </tr>\n  </tbody>\n</table>\n</div>",
                        "text/plain": "  PostalCode           Borough     Neighbourhood\n3        M3A        North York         Parkwoods\n4        M4A        North York  Victoria Village\n5        M5A  Downtown Toronto      Harbourfront\n6        M6A        North York  Lawrence Heights\n7        M6A        North York    Lawrence Manor"
                    },
                    "execution_count": 5,
                    "metadata": {},
                    "output_type": "execute_result"
                }
            ],
            "source": "df = pd.DataFrame(data, columns=['PostalCode', 'Borough', 'Neighbourhood'])\ndf = df[df['Borough'] != 'Not assigned']\ndf = df[df['Borough'].notnull()]\n\ndf.head()"
        },
        {
            "cell_type": "markdown",
            "metadata": {},
            "source": "## Join neighbourhood to post code and borough"
        },
        {
            "cell_type": "code",
            "execution_count": 6,
            "metadata": {},
            "outputs": [
                {
                    "data": {
                        "text/html": "<div>\n<style scoped>\n    .dataframe tbody tr th:only-of-type {\n        vertical-align: middle;\n    }\n\n    .dataframe tbody tr th {\n        vertical-align: top;\n    }\n\n    .dataframe thead th {\n        text-align: right;\n    }\n</style>\n<table border=\"1\" class=\"dataframe\">\n  <thead>\n    <tr style=\"text-align: right;\">\n      <th></th>\n      <th>PostalCode</th>\n      <th>Borough</th>\n      <th>Neighbourhood</th>\n    </tr>\n  </thead>\n  <tbody>\n    <tr>\n      <th>0</th>\n      <td>M1B</td>\n      <td>Scarborough</td>\n      <td>Rouge, Malvern</td>\n    </tr>\n    <tr>\n      <th>1</th>\n      <td>M1C</td>\n      <td>Scarborough</td>\n      <td>Highland Creek, Rouge Hill, Port Union</td>\n    </tr>\n    <tr>\n      <th>2</th>\n      <td>M1E</td>\n      <td>Scarborough</td>\n      <td>Guildwood, Morningside, West Hill</td>\n    </tr>\n    <tr>\n      <th>3</th>\n      <td>M1G</td>\n      <td>Scarborough</td>\n      <td>Woburn</td>\n    </tr>\n    <tr>\n      <th>4</th>\n      <td>M1H</td>\n      <td>Scarborough</td>\n      <td>Cedarbrae</td>\n    </tr>\n  </tbody>\n</table>\n</div>",
                        "text/plain": "  PostalCode      Borough                           Neighbourhood\n0        M1B  Scarborough                          Rouge, Malvern\n1        M1C  Scarborough  Highland Creek, Rouge Hill, Port Union\n2        M1E  Scarborough       Guildwood, Morningside, West Hill\n3        M1G  Scarborough                                  Woburn\n4        M1H  Scarborough                               Cedarbrae"
                    },
                    "execution_count": 6,
                    "metadata": {},
                    "output_type": "execute_result"
                }
            ],
            "source": "df_joined = df.groupby(['PostalCode', 'Borough'])['Neighbourhood'].apply(lambda x: ', '.join(x)).to_frame().reset_index()\ndf_joined.head()"
        },
        {
            "cell_type": "code",
            "execution_count": 7,
            "metadata": {},
            "outputs": [
                {
                    "data": {
                        "text/plain": "(103, 3)"
                    },
                    "execution_count": 7,
                    "metadata": {},
                    "output_type": "execute_result"
                }
            ],
            "source": "df_joined.shape"
        },
        {
            "cell_type": "markdown",
            "metadata": {},
            "source": "## Load geo data "
        },
        {
            "cell_type": "code",
            "execution_count": 8,
            "metadata": {},
            "outputs": [],
            "source": "!wget -q https://cocl.us/Geospatial_data"
        },
        {
            "cell_type": "code",
            "execution_count": 9,
            "metadata": {},
            "outputs": [
                {
                    "data": {
                        "text/html": "<div>\n<style scoped>\n    .dataframe tbody tr th:only-of-type {\n        vertical-align: middle;\n    }\n\n    .dataframe tbody tr th {\n        vertical-align: top;\n    }\n\n    .dataframe thead th {\n        text-align: right;\n    }\n</style>\n<table border=\"1\" class=\"dataframe\">\n  <thead>\n    <tr style=\"text-align: right;\">\n      <th></th>\n      <th>Postal Code</th>\n      <th>Latitude</th>\n      <th>Longitude</th>\n    </tr>\n  </thead>\n  <tbody>\n    <tr>\n      <th>0</th>\n      <td>M1B</td>\n      <td>43.806686</td>\n      <td>-79.194353</td>\n    </tr>\n    <tr>\n      <th>1</th>\n      <td>M1C</td>\n      <td>43.784535</td>\n      <td>-79.160497</td>\n    </tr>\n    <tr>\n      <th>2</th>\n      <td>M1E</td>\n      <td>43.763573</td>\n      <td>-79.188711</td>\n    </tr>\n    <tr>\n      <th>3</th>\n      <td>M1G</td>\n      <td>43.770992</td>\n      <td>-79.216917</td>\n    </tr>\n    <tr>\n      <th>4</th>\n      <td>M1H</td>\n      <td>43.773136</td>\n      <td>-79.239476</td>\n    </tr>\n  </tbody>\n</table>\n</div>",
                        "text/plain": "  Postal Code   Latitude  Longitude\n0         M1B  43.806686 -79.194353\n1         M1C  43.784535 -79.160497\n2         M1E  43.763573 -79.188711\n3         M1G  43.770992 -79.216917\n4         M1H  43.773136 -79.239476"
                    },
                    "execution_count": 9,
                    "metadata": {},
                    "output_type": "execute_result"
                }
            ],
            "source": "df_location = pd.read_csv('Geospatial_data')\ndf_location.head()"
        },
        {
            "cell_type": "markdown",
            "metadata": {},
            "source": "## Add geo data to orignal data frame by using post code"
        },
        {
            "cell_type": "code",
            "execution_count": 10,
            "metadata": {},
            "outputs": [
                {
                    "data": {
                        "text/html": "<div>\n<style scoped>\n    .dataframe tbody tr th:only-of-type {\n        vertical-align: middle;\n    }\n\n    .dataframe tbody tr th {\n        vertical-align: top;\n    }\n\n    .dataframe thead th {\n        text-align: right;\n    }\n</style>\n<table border=\"1\" class=\"dataframe\">\n  <thead>\n    <tr style=\"text-align: right;\">\n      <th></th>\n      <th>PostalCode</th>\n      <th>Borough</th>\n      <th>Neighbourhood</th>\n      <th>Latitude</th>\n      <th>Longitude</th>\n    </tr>\n  </thead>\n  <tbody>\n    <tr>\n      <th>0</th>\n      <td>M1B</td>\n      <td>Scarborough</td>\n      <td>Rouge, Malvern</td>\n      <td>43.806686</td>\n      <td>-79.194353</td>\n    </tr>\n    <tr>\n      <th>1</th>\n      <td>M1C</td>\n      <td>Scarborough</td>\n      <td>Highland Creek, Rouge Hill, Port Union</td>\n      <td>43.784535</td>\n      <td>-79.160497</td>\n    </tr>\n    <tr>\n      <th>2</th>\n      <td>M1E</td>\n      <td>Scarborough</td>\n      <td>Guildwood, Morningside, West Hill</td>\n      <td>43.763573</td>\n      <td>-79.188711</td>\n    </tr>\n    <tr>\n      <th>3</th>\n      <td>M1G</td>\n      <td>Scarborough</td>\n      <td>Woburn</td>\n      <td>43.770992</td>\n      <td>-79.216917</td>\n    </tr>\n    <tr>\n      <th>4</th>\n      <td>M1H</td>\n      <td>Scarborough</td>\n      <td>Cedarbrae</td>\n      <td>43.773136</td>\n      <td>-79.239476</td>\n    </tr>\n  </tbody>\n</table>\n</div>",
                        "text/plain": "  PostalCode      Borough                           Neighbourhood   Latitude  \\\n0        M1B  Scarborough                          Rouge, Malvern  43.806686   \n1        M1C  Scarborough  Highland Creek, Rouge Hill, Port Union  43.784535   \n2        M1E  Scarborough       Guildwood, Morningside, West Hill  43.763573   \n3        M1G  Scarborough                                  Woburn  43.770992   \n4        M1H  Scarborough                               Cedarbrae  43.773136   \n\n   Longitude  \n0 -79.194353  \n1 -79.160497  \n2 -79.188711  \n3 -79.216917  \n4 -79.239476  "
                    },
                    "execution_count": 10,
                    "metadata": {},
                    "output_type": "execute_result"
                }
            ],
            "source": "df_combined = df_joined.join(df_location.set_index('Postal Code'), on='PostalCode')\ndf_combined.head()"
        },
        {
            "cell_type": "markdown",
            "metadata": {},
            "source": "## Fetch venue data from foursquare\n\n### Select Toronto"
        },
        {
            "cell_type": "code",
            "execution_count": 12,
            "metadata": {},
            "outputs": [
                {
                    "data": {
                        "text/html": "<div>\n<style scoped>\n    .dataframe tbody tr th:only-of-type {\n        vertical-align: middle;\n    }\n\n    .dataframe tbody tr th {\n        vertical-align: top;\n    }\n\n    .dataframe thead th {\n        text-align: right;\n    }\n</style>\n<table border=\"1\" class=\"dataframe\">\n  <thead>\n    <tr style=\"text-align: right;\">\n      <th></th>\n      <th>PostalCode</th>\n      <th>Borough</th>\n      <th>Neighbourhood</th>\n      <th>Latitude</th>\n      <th>Longitude</th>\n    </tr>\n  </thead>\n  <tbody>\n    <tr>\n      <th>37</th>\n      <td>M4E</td>\n      <td>East Toronto</td>\n      <td>The Beaches</td>\n      <td>43.676357</td>\n      <td>-79.293031</td>\n    </tr>\n    <tr>\n      <th>41</th>\n      <td>M4K</td>\n      <td>East Toronto</td>\n      <td>The Danforth West, Riverdale</td>\n      <td>43.679557</td>\n      <td>-79.352188</td>\n    </tr>\n    <tr>\n      <th>42</th>\n      <td>M4L</td>\n      <td>East Toronto</td>\n      <td>The Beaches West, India Bazaar</td>\n      <td>43.668999</td>\n      <td>-79.315572</td>\n    </tr>\n    <tr>\n      <th>43</th>\n      <td>M4M</td>\n      <td>East Toronto</td>\n      <td>Studio District</td>\n      <td>43.659526</td>\n      <td>-79.340923</td>\n    </tr>\n    <tr>\n      <th>44</th>\n      <td>M4N</td>\n      <td>Central Toronto</td>\n      <td>Lawrence Park</td>\n      <td>43.728020</td>\n      <td>-79.388790</td>\n    </tr>\n  </tbody>\n</table>\n</div>",
                        "text/plain": "   PostalCode          Borough                   Neighbourhood   Latitude  \\\n37        M4E     East Toronto                     The Beaches  43.676357   \n41        M4K     East Toronto    The Danforth West, Riverdale  43.679557   \n42        M4L     East Toronto  The Beaches West, India Bazaar  43.668999   \n43        M4M     East Toronto                 Studio District  43.659526   \n44        M4N  Central Toronto                   Lawrence Park  43.728020   \n\n    Longitude  \n37 -79.293031  \n41 -79.352188  \n42 -79.315572  \n43 -79.340923  \n44 -79.388790  "
                    },
                    "execution_count": 12,
                    "metadata": {},
                    "output_type": "execute_result"
                }
            ],
            "source": "df_toronto = df_combined[df_combined['Borough'].str.contains('Toronto')]\ndf_toronto.head()"
        },
        {
            "cell_type": "code",
            "execution_count": 17,
            "metadata": {},
            "outputs": [
                {
                    "data": {
                        "text/plain": "(39, 5)"
                    },
                    "execution_count": 17,
                    "metadata": {},
                    "output_type": "execute_result"
                }
            ],
            "source": "df_toronto.shape"
        },
        {
            "cell_type": "markdown",
            "metadata": {},
            "source": "### Check distance between postcodes"
        },
        {
            "cell_type": "code",
            "execution_count": 85,
            "metadata": {},
            "outputs": [],
            "source": "import geopy.distance"
        },
        {
            "cell_type": "code",
            "execution_count": 103,
            "metadata": {},
            "outputs": [],
            "source": "distance_matrix = []\n\nfor index1, item1 in df_toronto.iterrows():       \n    distance_matrix.append([geopy.distance.distance((item1['Latitude'], item1['Longitude']), (item2['Latitude'], item2['Longitude'])).km for index2, item2 in df_toronto.iterrows()])\n\ndf_distance = pd.DataFrame(data=distance_matrix, columns=df_toronto['PostalCode'].to_list())  \ndf_distance.replace(0, np.nan, inplace=True)"
        },
        {
            "cell_type": "markdown",
            "metadata": {},
            "source": "###  Anlyze distance"
        },
        {
            "cell_type": "code",
            "execution_count": 106,
            "metadata": {},
            "outputs": [
                {
                    "data": {
                        "text/html": "<div>\n<style scoped>\n    .dataframe tbody tr th:only-of-type {\n        vertical-align: middle;\n    }\n\n    .dataframe tbody tr th {\n        vertical-align: top;\n    }\n\n    .dataframe thead th {\n        text-align: right;\n    }\n</style>\n<table border=\"1\" class=\"dataframe\">\n  <thead>\n    <tr style=\"text-align: right;\">\n      <th></th>\n      <th>M4E</th>\n      <th>M4K</th>\n      <th>M4L</th>\n      <th>M4M</th>\n      <th>M4N</th>\n      <th>M4P</th>\n      <th>M4R</th>\n      <th>M4S</th>\n      <th>M4T</th>\n      <th>M4V</th>\n      <th>...</th>\n      <th>M5X</th>\n      <th>M6G</th>\n      <th>M6H</th>\n      <th>M6J</th>\n      <th>M6K</th>\n      <th>M6P</th>\n      <th>M6R</th>\n      <th>M6S</th>\n      <th>M7A</th>\n      <th>M7Y</th>\n    </tr>\n  </thead>\n  <tbody>\n    <tr>\n      <th>0</th>\n      <td>NaN</td>\n      <td>4.783559</td>\n      <td>1.993202</td>\n      <td>4.291486</td>\n      <td>9.619156</td>\n      <td>8.815305</td>\n      <td>10.063112</td>\n      <td>8.322152</td>\n      <td>7.414142</td>\n      <td>8.701328</td>\n      <td>...</td>\n      <td>7.839071</td>\n      <td>10.473616</td>\n      <td>12.062312</td>\n      <td>10.698086</td>\n      <td>11.753554</td>\n      <td>13.946929</td>\n      <td>13.518335</td>\n      <td>15.683039</td>\n      <td>7.934935</td>\n      <td>2.753349</td>\n    </tr>\n    <tr>\n      <th>1</th>\n      <td>4.783559</td>\n      <td>NaN</td>\n      <td>3.177377</td>\n      <td>2.403919</td>\n      <td>6.139873</td>\n      <td>4.794850</td>\n      <td>5.868387</td>\n      <td>4.034848</td>\n      <td>2.734048</td>\n      <td>3.933596</td>\n      <td>...</td>\n      <td>4.225191</td>\n      <td>5.783385</td>\n      <td>7.357686</td>\n      <td>6.484299</td>\n      <td>7.752742</td>\n      <td>9.295478</td>\n      <td>9.061270</td>\n      <td>11.111572</td>\n      <td>3.567574</td>\n      <td>3.097046</td>\n    </tr>\n    <tr>\n      <th>2</th>\n      <td>1.993202</td>\n      <td>3.177377</td>\n      <td>NaN</td>\n      <td>2.299750</td>\n      <td>8.822699</td>\n      <td>7.734906</td>\n      <td>8.906815</td>\n      <td>7.089083</td>\n      <td>5.910160</td>\n      <td>7.081630</td>\n      <td>...</td>\n      <td>5.846215</td>\n      <td>8.629165</td>\n      <td>10.217456</td>\n      <td>8.723542</td>\n      <td>9.762329</td>\n      <td>12.061140</td>\n      <td>11.569990</td>\n      <td>13.759062</td>\n      <td>6.008462</td>\n      <td>0.846194</td>\n    </tr>\n    <tr>\n      <th>3</th>\n      <td>4.291486</td>\n      <td>2.403919</td>\n      <td>2.299750</td>\n      <td>NaN</td>\n      <td>8.532692</td>\n      <td>7.124297</td>\n      <td>8.110172</td>\n      <td>6.298570</td>\n      <td>4.769478</td>\n      <td>5.626740</td>\n      <td>...</td>\n      <td>3.556822</td>\n      <td>6.678252</td>\n      <td>8.241071</td>\n      <td>6.488309</td>\n      <td>7.477977</td>\n      <td>9.991890</td>\n      <td>9.383259</td>\n      <td>11.611820</td>\n      <td>3.929919</td>\n      <td>1.602413</td>\n    </tr>\n    <tr>\n      <th>4</th>\n      <td>9.619156</td>\n      <td>6.139873</td>\n      <td>8.822699</td>\n      <td>8.532692</td>\n      <td>NaN</td>\n      <td>1.700320</td>\n      <td>1.955339</td>\n      <td>2.632796</td>\n      <td>4.295660</td>\n      <td>4.711171</td>\n      <td>...</td>\n      <td>8.858646</td>\n      <td>7.044675</td>\n      <td>7.846785</td>\n      <td>9.242365</td>\n      <td>10.616427</td>\n      <td>9.589496</td>\n      <td>10.334840</td>\n      <td>11.472995</td>\n      <td>7.302015</td>\n      <td>9.054092</td>\n    </tr>\n    <tr>\n      <th>5</th>\n      <td>8.815305</td>\n      <td>4.794850</td>\n      <td>7.734906</td>\n      <td>7.124297</td>\n      <td>1.700320</td>\n      <td>NaN</td>\n      <td>1.281433</td>\n      <td>0.943108</td>\n      <td>2.636836</td>\n      <td>3.032251</td>\n      <td>...</td>\n      <td>7.175008</td>\n      <td>5.464122</td>\n      <td>6.421939</td>\n      <td>7.586354</td>\n      <td>8.972707</td>\n      <td>8.272369</td>\n      <td>8.869405</td>\n      <td>10.196286</td>\n      <td>5.605548</td>\n      <td>7.841978</td>\n    </tr>\n    <tr>\n      <th>6</th>\n      <td>10.063112</td>\n      <td>5.868387</td>\n      <td>8.906815</td>\n      <td>8.110172</td>\n      <td>1.955339</td>\n      <td>1.281433</td>\n      <td>NaN</td>\n      <td>1.833697</td>\n      <td>3.393753</td>\n      <td>3.250699</td>\n      <td>...</td>\n      <td>7.674536</td>\n      <td>5.272043</td>\n      <td>5.937171</td>\n      <td>7.580243</td>\n      <td>8.912698</td>\n      <td>7.641361</td>\n      <td>8.434622</td>\n      <td>9.518870</td>\n      <td>6.040353</td>\n      <td>8.955604</td>\n    </tr>\n    <tr>\n      <th>7</th>\n      <td>8.322152</td>\n      <td>4.034848</td>\n      <td>7.089083</td>\n      <td>6.298570</td>\n      <td>2.632796</td>\n      <td>0.943108</td>\n      <td>1.833697</td>\n      <td>NaN</td>\n      <td>1.700517</td>\n      <td>2.187359</td>\n      <td>...</td>\n      <td>6.232436</td>\n      <td>4.727545</td>\n      <td>5.829628</td>\n      <td>6.745172</td>\n      <td>8.142737</td>\n      <td>7.749258</td>\n      <td>8.215747</td>\n      <td>9.688056</td>\n      <td>4.669344</td>\n      <td>7.122522</td>\n    </tr>\n    <tr>\n      <th>8</th>\n      <td>7.414142</td>\n      <td>2.734048</td>\n      <td>5.910160</td>\n      <td>4.769478</td>\n      <td>4.295660</td>\n      <td>2.636836</td>\n      <td>3.393753</td>\n      <td>1.700517</td>\n      <td>NaN</td>\n      <td>1.406302</td>\n      <td>...</td>\n      <td>4.572009</td>\n      <td>3.879378</td>\n      <td>5.285242</td>\n      <td>5.488191</td>\n      <td>6.892903</td>\n      <td>7.277337</td>\n      <td>7.428470</td>\n      <td>9.195643</td>\n      <td>3.072917</td>\n      <td>5.793444</td>\n    </tr>\n    <tr>\n      <th>9</th>\n      <td>8.701328</td>\n      <td>3.933596</td>\n      <td>7.081630</td>\n      <td>5.626740</td>\n      <td>4.711171</td>\n      <td>3.032251</td>\n      <td>3.250699</td>\n      <td>2.187359</td>\n      <td>1.406302</td>\n      <td>NaN</td>\n      <td>...</td>\n      <td>4.456843</td>\n      <td>2.609502</td>\n      <td>3.914871</td>\n      <td>4.561637</td>\n      <td>5.956454</td>\n      <td>5.901752</td>\n      <td>6.157602</td>\n      <td>7.830734</td>\n      <td>2.810844</td>\n      <td>6.854314</td>\n    </tr>\n    <tr>\n      <th>10</th>\n      <td>6.823128</td>\n      <td>2.043445</td>\n      <td>5.132515</td>\n      <td>3.697601</td>\n      <td>5.459959</td>\n      <td>3.826253</td>\n      <td>4.581359</td>\n      <td>2.897105</td>\n      <td>1.201437</td>\n      <td>1.968859</td>\n      <td>...</td>\n      <td>3.480257</td>\n      <td>3.798539</td>\n      <td>5.350226</td>\n      <td>4.894021</td>\n      <td>6.262949</td>\n      <td>7.312639</td>\n      <td>7.207806</td>\n      <td>9.167382</td>\n      <td>2.146866</td>\n      <td>4.885471</td>\n    </tr>\n    <tr>\n      <th>11</th>\n      <td>6.091540</td>\n      <td>1.793921</td>\n      <td>4.203801</td>\n      <td>2.352801</td>\n      <td>6.886006</td>\n      <td>5.296752</td>\n      <td>6.094387</td>\n      <td>4.383617</td>\n      <td>2.706006</td>\n      <td>3.318941</td>\n      <td>...</td>\n      <td>2.469844</td>\n      <td>4.430266</td>\n      <td>6.016412</td>\n      <td>4.754242</td>\n      <td>5.982383</td>\n      <td>7.862572</td>\n      <td>7.456229</td>\n      <td>9.593947</td>\n      <td>1.868983</td>\n      <td>3.764616</td>\n    </tr>\n    <tr>\n      <th>12</th>\n      <td>7.361672</td>\n      <td>2.924853</td>\n      <td>5.462331</td>\n      <td>3.478730</td>\n      <td>6.921333</td>\n      <td>5.240708</td>\n      <td>5.794137</td>\n      <td>4.297683</td>\n      <td>2.634811</td>\n      <td>2.658822</td>\n      <td>...</td>\n      <td>1.937947</td>\n      <td>3.204238</td>\n      <td>4.779327</td>\n      <td>3.561157</td>\n      <td>4.856812</td>\n      <td>6.598879</td>\n      <td>6.193452</td>\n      <td>8.323325</td>\n      <td>0.645989</td>\n      <td>4.980673</td>\n    </tr>\n    <tr>\n      <th>13</th>\n      <td>5.979948</td>\n      <td>2.892071</td>\n      <td>3.986746</td>\n      <td>1.694385</td>\n      <td>8.503787</td>\n      <td>6.922063</td>\n      <td>7.701296</td>\n      <td>6.007923</td>\n      <td>4.323720</td>\n      <td>4.781764</td>\n      <td>...</td>\n      <td>1.862439</td>\n      <td>5.275803</td>\n      <td>6.784561</td>\n      <td>4.820621</td>\n      <td>5.783687</td>\n      <td>8.439081</td>\n      <td>7.742053</td>\n      <td>9.992825</td>\n      <td>2.493402</td>\n      <td>3.290132</td>\n    </tr>\n    <tr>\n      <th>14</th>\n      <td>7.249450</td>\n      <td>3.293261</td>\n      <td>5.277465</td>\n      <td>3.077633</td>\n      <td>7.912815</td>\n      <td>6.242685</td>\n      <td>6.818634</td>\n      <td>5.299937</td>\n      <td>3.617285</td>\n      <td>3.668900</td>\n      <td>...</td>\n      <td>1.007026</td>\n      <td>3.778137</td>\n      <td>5.274265</td>\n      <td>3.448645</td>\n      <td>4.570096</td>\n      <td>6.940656</td>\n      <td>6.309204</td>\n      <td>8.534391</td>\n      <td>1.025286</td>\n      <td>4.669731</td>\n    </tr>\n    <tr>\n      <th>15</th>\n      <td>7.196439</td>\n      <td>3.637616</td>\n      <td>5.204401</td>\n      <td>2.922244</td>\n      <td>8.570657</td>\n      <td>6.909592</td>\n      <td>7.506144</td>\n      <td>5.968008</td>\n      <td>4.276777</td>\n      <td>4.358661</td>\n      <td>...</td>\n      <td>0.649957</td>\n      <td>4.299174</td>\n      <td>5.731892</td>\n      <td>3.598430</td>\n      <td>4.558349</td>\n      <td>7.294345</td>\n      <td>6.533321</td>\n      <td>8.796065</td>\n      <td>1.652620</td>\n      <td>4.520923</td>\n    </tr>\n    <tr>\n      <th>16</th>\n      <td>7.365048</td>\n      <td>4.223680</td>\n      <td>5.379249</td>\n      <td>3.084222</td>\n      <td>9.333420</td>\n      <td>7.674847</td>\n      <td>8.268344</td>\n      <td>6.733543</td>\n      <td>5.040965</td>\n      <td>5.104701</td>\n      <td>...</td>\n      <td>0.830307</td>\n      <td>4.833504</td>\n      <td>6.179661</td>\n      <td>3.763465</td>\n      <td>4.515242</td>\n      <td>7.611477</td>\n      <td>6.714122</td>\n      <td>8.998675</td>\n      <td>2.345001</td>\n      <td>4.627630</td>\n    </tr>\n    <tr>\n      <th>17</th>\n      <td>7.879709</td>\n      <td>3.717383</td>\n      <td>5.920737</td>\n      <td>3.751713</td>\n      <td>7.785831</td>\n      <td>6.092699</td>\n      <td>6.549227</td>\n      <td>5.153458</td>\n      <td>3.529844</td>\n      <td>3.322972</td>\n      <td>...</td>\n      <td>1.135325</td>\n      <td>3.116125</td>\n      <td>4.593445</td>\n      <td>2.838799</td>\n      <td>4.042118</td>\n      <td>6.254969</td>\n      <td>5.650724</td>\n      <td>7.862437</td>\n      <td>0.512339</td>\n      <td>5.336187</td>\n    </tr>\n    <tr>\n      <th>18</th>\n      <td>7.919537</td>\n      <td>4.146333</td>\n      <td>5.930065</td>\n      <td>3.658639</td>\n      <td>8.611827</td>\n      <td>6.923461</td>\n      <td>7.399482</td>\n      <td>5.981999</td>\n      <td>4.334957</td>\n      <td>4.173322</td>\n      <td>...</td>\n      <td>0.301148</td>\n      <td>3.719695</td>\n      <td>5.084361</td>\n      <td>2.853568</td>\n      <td>3.835866</td>\n      <td>6.584436</td>\n      <td>5.791912</td>\n      <td>8.058752</td>\n      <td>1.362540</td>\n      <td>5.259661</td>\n    </tr>\n    <tr>\n      <th>19</th>\n      <td>8.173826</td>\n      <td>4.920842</td>\n      <td>6.189289</td>\n      <td>3.895035</td>\n      <td>9.705587</td>\n      <td>8.021412</td>\n      <td>8.506602</td>\n      <td>7.078978</td>\n      <td>5.418548</td>\n      <td>5.276623</td>\n      <td>...</td>\n      <td>0.846972</td>\n      <td>4.585344</td>\n      <td>5.799509</td>\n      <td>3.165938</td>\n      <td>3.773075</td>\n      <td>7.084139</td>\n      <td>6.084409</td>\n      <td>8.371492</td>\n      <td>2.467533</td>\n      <td>5.433001</td>\n    </tr>\n    <tr>\n      <th>20</th>\n      <td>7.843526</td>\n      <td>4.308348</td>\n      <td>5.850336</td>\n      <td>3.555002</td>\n      <td>9.001042</td>\n      <td>7.318788</td>\n      <td>7.823398</td>\n      <td>6.376029</td>\n      <td>4.712338</td>\n      <td>4.606867</td>\n      <td>...</td>\n      <td>0.150288</td>\n      <td>4.135933</td>\n      <td>5.462867</td>\n      <td>3.080928</td>\n      <td>3.932419</td>\n      <td>6.899609</td>\n      <td>6.033877</td>\n      <td>8.313872</td>\n      <td>1.797721</td>\n      <td>5.141315</td>\n    </tr>\n    <tr>\n      <th>21</th>\n      <td>7.667450</td>\n      <td>4.135844</td>\n      <td>5.674258</td>\n      <td>3.380592</td>\n      <td>8.898175</td>\n      <td>7.220861</td>\n      <td>7.750449</td>\n      <td>6.277763</td>\n      <td>4.604990</td>\n      <td>4.548557</td>\n      <td>...</td>\n      <td>0.200381</td>\n      <td>4.184869</td>\n      <td>5.542058</td>\n      <td>3.221871</td>\n      <td>4.101854</td>\n      <td>7.012692</td>\n      <td>6.173106</td>\n      <td>8.449717</td>\n      <td>1.750606</td>\n      <td>4.969776</td>\n    </tr>\n    <tr>\n      <th>22</th>\n      <td>10.732743</td>\n      <td>6.324118</td>\n      <td>9.449256</td>\n      <td>8.435601</td>\n      <td>2.904172</td>\n      <td>2.158093</td>\n      <td>0.995502</td>\n      <td>2.411767</td>\n      <td>3.667834</td>\n      <td>3.121481</td>\n      <td>...</td>\n      <td>7.564294</td>\n      <td>4.705367</td>\n      <td>5.163840</td>\n      <td>7.088651</td>\n      <td>8.365401</td>\n      <td>6.770424</td>\n      <td>7.659797</td>\n      <td>8.617481</td>\n      <td>5.917125</td>\n      <td>9.418876</td>\n    </tr>\n    <tr>\n      <th>23</th>\n      <td>9.806816</td>\n      <td>5.143221</td>\n      <td>8.320542</td>\n      <td>7.035670</td>\n      <td>3.900291</td>\n      <td>2.445033</td>\n      <td>2.097979</td>\n      <td>1.991539</td>\n      <td>2.412535</td>\n      <td>1.481190</td>\n      <td>...</td>\n      <td>5.877010</td>\n      <td>3.177323</td>\n      <td>3.983352</td>\n      <td>5.488900</td>\n      <td>6.814941</td>\n      <td>5.830730</td>\n      <td>6.450411</td>\n      <td>7.759544</td>\n      <td>4.232225</td>\n      <td>8.174135</td>\n    </tr>\n    <tr>\n      <th>24</th>\n      <td>9.093281</td>\n      <td>4.380107</td>\n      <td>7.278645</td>\n      <td>5.424354</td>\n      <td>6.294362</td>\n      <td>4.620595</td>\n      <td>4.741316</td>\n      <td>3.767262</td>\n      <td>2.609211</td>\n      <td>1.588667</td>\n      <td>...</td>\n      <td>3.292364</td>\n      <td>1.406510</td>\n      <td>2.978760</td>\n      <td>2.978290</td>\n      <td>4.378892</td>\n      <td>4.922424</td>\n      <td>4.863356</td>\n      <td>6.773907</td>\n      <td>1.743898</td>\n      <td>6.874276</td>\n    </tr>\n    <tr>\n      <th>25</th>\n      <td>8.763471</td>\n      <td>4.290524</td>\n      <td>6.849439</td>\n      <td>4.782193</td>\n      <td>7.314542</td>\n      <td>5.617910</td>\n      <td>5.871506</td>\n      <td>4.713467</td>\n      <td>3.282297</td>\n      <td>2.635065</td>\n      <td>...</td>\n      <td>2.137085</td>\n      <td>1.968777</td>\n      <td>3.475872</td>\n      <td>2.284332</td>\n      <td>3.660947</td>\n      <td>5.221223</td>\n      <td>4.789330</td>\n      <td>6.919605</td>\n      <td>0.852526</td>\n      <td>6.331044</td>\n    </tr>\n    <tr>\n      <th>26</th>\n      <td>9.006819</td>\n      <td>4.844919</td>\n      <td>7.036376</td>\n      <td>4.820989</td>\n      <td>8.361805</td>\n      <td>6.663374</td>\n      <td>6.923214</td>\n      <td>5.751703</td>\n      <td>4.264159</td>\n      <td>3.689446</td>\n      <td>...</td>\n      <td>1.528603</td>\n      <td>2.567567</td>\n      <td>3.830602</td>\n      <td>1.694110</td>\n      <td>2.908422</td>\n      <td>5.303059</td>\n      <td>4.564471</td>\n      <td>6.811271</td>\n      <td>1.321476</td>\n      <td>6.419616</td>\n    </tr>\n    <tr>\n      <th>27</th>\n      <td>9.728736</td>\n      <td>6.574643</td>\n      <td>7.763261</td>\n      <td>5.493046</td>\n      <td>11.017048</td>\n      <td>9.317381</td>\n      <td>9.646448</td>\n      <td>8.387195</td>\n      <td>6.797024</td>\n      <td>6.400876</td>\n      <td>...</td>\n      <td>2.375937</td>\n      <td>5.049631</td>\n      <td>5.891096</td>\n      <td>2.936746</td>\n      <td>2.863202</td>\n      <td>6.736456</td>\n      <td>5.467724</td>\n      <td>7.687040</td>\n      <td>3.727148</td>\n      <td>6.975573</td>\n    </tr>\n    <tr>\n      <th>28</th>\n      <td>7.389361</td>\n      <td>4.108847</td>\n      <td>5.398756</td>\n      <td>3.099113</td>\n      <td>9.134081</td>\n      <td>7.471357</td>\n      <td>8.053892</td>\n      <td>6.529389</td>\n      <td>4.839679</td>\n      <td>4.884736</td>\n      <td>...</td>\n      <td>0.639397</td>\n      <td>4.626783</td>\n      <td>5.988286</td>\n      <td>3.626616</td>\n      <td>4.434164</td>\n      <td>7.447022</td>\n      <td>6.579647</td>\n      <td>8.860959</td>\n      <td>2.122230</td>\n      <td>4.665030</td>\n    </tr>\n    <tr>\n      <th>29</th>\n      <td>7.839071</td>\n      <td>4.225191</td>\n      <td>5.846215</td>\n      <td>3.556822</td>\n      <td>8.858646</td>\n      <td>7.175008</td>\n      <td>7.674536</td>\n      <td>6.232436</td>\n      <td>4.572009</td>\n      <td>4.456843</td>\n      <td>...</td>\n      <td>NaN</td>\n      <td>4.007663</td>\n      <td>5.351100</td>\n      <td>3.023503</td>\n      <td>3.921535</td>\n      <td>6.813078</td>\n      <td>5.974072</td>\n      <td>8.250047</td>\n      <td>1.647482</td>\n      <td>5.150111</td>\n    </tr>\n    <tr>\n      <th>30</th>\n      <td>10.473616</td>\n      <td>5.783385</td>\n      <td>8.629165</td>\n      <td>6.678252</td>\n      <td>7.044675</td>\n      <td>5.464122</td>\n      <td>5.272043</td>\n      <td>4.727545</td>\n      <td>3.879378</td>\n      <td>2.609502</td>\n      <td>...</td>\n      <td>4.007663</td>\n      <td>NaN</td>\n      <td>1.589577</td>\n      <td>2.412284</td>\n      <td>3.660831</td>\n      <td>3.515914</td>\n      <td>3.556112</td>\n      <td>5.376397</td>\n      <td>2.785924</td>\n      <td>8.181510</td>\n    </tr>\n    <tr>\n      <th>31</th>\n      <td>12.062312</td>\n      <td>7.357686</td>\n      <td>10.217456</td>\n      <td>8.241071</td>\n      <td>7.846785</td>\n      <td>6.421939</td>\n      <td>5.937171</td>\n      <td>5.829628</td>\n      <td>5.285242</td>\n      <td>3.914871</td>\n      <td>...</td>\n      <td>5.351100</td>\n      <td>1.589577</td>\n      <td>NaN</td>\n      <td>2.963362</td>\n      <td>3.748829</td>\n      <td>1.992460</td>\n      <td>2.499507</td>\n      <td>3.915863</td>\n      <td>4.320496</td>\n      <td>9.759977</td>\n    </tr>\n    <tr>\n      <th>32</th>\n      <td>10.698086</td>\n      <td>6.484299</td>\n      <td>8.723542</td>\n      <td>6.488309</td>\n      <td>9.242365</td>\n      <td>7.586354</td>\n      <td>7.580243</td>\n      <td>6.745172</td>\n      <td>5.488191</td>\n      <td>4.561637</td>\n      <td>...</td>\n      <td>3.023503</td>\n      <td>2.412284</td>\n      <td>2.963362</td>\n      <td>NaN</td>\n      <td>1.406868</td>\n      <td>3.936572</td>\n      <td>2.953063</td>\n      <td>5.235464</td>\n      <td>2.916834</td>\n      <td>8.090298</td>\n    </tr>\n    <tr>\n      <th>33</th>\n      <td>11.753554</td>\n      <td>7.752742</td>\n      <td>9.762329</td>\n      <td>7.477977</td>\n      <td>10.616427</td>\n      <td>8.972707</td>\n      <td>8.912698</td>\n      <td>8.142737</td>\n      <td>6.892903</td>\n      <td>5.956454</td>\n      <td>...</td>\n      <td>3.921535</td>\n      <td>3.660831</td>\n      <td>3.748829</td>\n      <td>1.406868</td>\n      <td>NaN</td>\n      <td>4.034113</td>\n      <td>2.638916</td>\n      <td>4.824929</td>\n      <td>4.212490</td>\n      <td>9.071211</td>\n    </tr>\n    <tr>\n      <th>34</th>\n      <td>13.946929</td>\n      <td>9.295478</td>\n      <td>12.061140</td>\n      <td>9.991890</td>\n      <td>9.589496</td>\n      <td>8.272369</td>\n      <td>7.641361</td>\n      <td>7.749258</td>\n      <td>7.277337</td>\n      <td>5.901752</td>\n      <td>...</td>\n      <td>6.813078</td>\n      <td>3.515914</td>\n      <td>1.992460</td>\n      <td>3.936572</td>\n      <td>4.034113</td>\n      <td>NaN</td>\n      <td>1.561511</td>\n      <td>1.940547</td>\n      <td>6.071740</td>\n      <td>11.551610</td>\n    </tr>\n    <tr>\n      <th>35</th>\n      <td>13.518335</td>\n      <td>9.061270</td>\n      <td>11.569990</td>\n      <td>9.383259</td>\n      <td>10.334840</td>\n      <td>8.869405</td>\n      <td>8.434622</td>\n      <td>8.215747</td>\n      <td>7.428470</td>\n      <td>6.157602</td>\n      <td>...</td>\n      <td>5.974072</td>\n      <td>3.556112</td>\n      <td>2.499507</td>\n      <td>2.953063</td>\n      <td>2.638916</td>\n      <td>1.561511</td>\n      <td>NaN</td>\n      <td>2.287468</td>\n      <td>5.591261</td>\n      <td>10.978774</td>\n    </tr>\n    <tr>\n      <th>36</th>\n      <td>15.683039</td>\n      <td>11.111572</td>\n      <td>13.759062</td>\n      <td>11.611820</td>\n      <td>11.472995</td>\n      <td>10.196286</td>\n      <td>9.518870</td>\n      <td>9.688056</td>\n      <td>9.195643</td>\n      <td>7.830734</td>\n      <td>...</td>\n      <td>8.250047</td>\n      <td>5.376397</td>\n      <td>3.915863</td>\n      <td>5.235464</td>\n      <td>4.824929</td>\n      <td>1.940547</td>\n      <td>2.287468</td>\n      <td>NaN</td>\n      <td>7.752047</td>\n      <td>13.198446</td>\n    </tr>\n    <tr>\n      <th>37</th>\n      <td>7.934935</td>\n      <td>3.567574</td>\n      <td>6.008462</td>\n      <td>3.929919</td>\n      <td>7.302015</td>\n      <td>5.605548</td>\n      <td>6.040353</td>\n      <td>4.669344</td>\n      <td>3.072917</td>\n      <td>2.810844</td>\n      <td>...</td>\n      <td>1.647482</td>\n      <td>2.785924</td>\n      <td>4.320496</td>\n      <td>2.916834</td>\n      <td>4.212490</td>\n      <td>6.071740</td>\n      <td>5.591261</td>\n      <td>7.752047</td>\n      <td>NaN</td>\n      <td>5.479882</td>\n    </tr>\n    <tr>\n      <th>38</th>\n      <td>2.753349</td>\n      <td>3.097046</td>\n      <td>0.846194</td>\n      <td>1.602413</td>\n      <td>9.054092</td>\n      <td>7.841978</td>\n      <td>8.955604</td>\n      <td>7.122522</td>\n      <td>5.793444</td>\n      <td>6.854314</td>\n      <td>...</td>\n      <td>5.150111</td>\n      <td>8.181510</td>\n      <td>9.759977</td>\n      <td>8.090298</td>\n      <td>9.071211</td>\n      <td>11.551610</td>\n      <td>10.978774</td>\n      <td>13.198446</td>\n      <td>5.479882</td>\n      <td>NaN</td>\n    </tr>\n  </tbody>\n</table>\n<p>39 rows \u00d7 39 columns</p>\n</div>",
                        "text/plain": "          M4E        M4K        M4L        M4M        M4N        M4P  \\\n0         NaN   4.783559   1.993202   4.291486   9.619156   8.815305   \n1    4.783559        NaN   3.177377   2.403919   6.139873   4.794850   \n2    1.993202   3.177377        NaN   2.299750   8.822699   7.734906   \n3    4.291486   2.403919   2.299750        NaN   8.532692   7.124297   \n4    9.619156   6.139873   8.822699   8.532692        NaN   1.700320   \n5    8.815305   4.794850   7.734906   7.124297   1.700320        NaN   \n6   10.063112   5.868387   8.906815   8.110172   1.955339   1.281433   \n7    8.322152   4.034848   7.089083   6.298570   2.632796   0.943108   \n8    7.414142   2.734048   5.910160   4.769478   4.295660   2.636836   \n9    8.701328   3.933596   7.081630   5.626740   4.711171   3.032251   \n10   6.823128   2.043445   5.132515   3.697601   5.459959   3.826253   \n11   6.091540   1.793921   4.203801   2.352801   6.886006   5.296752   \n12   7.361672   2.924853   5.462331   3.478730   6.921333   5.240708   \n13   5.979948   2.892071   3.986746   1.694385   8.503787   6.922063   \n14   7.249450   3.293261   5.277465   3.077633   7.912815   6.242685   \n15   7.196439   3.637616   5.204401   2.922244   8.570657   6.909592   \n16   7.365048   4.223680   5.379249   3.084222   9.333420   7.674847   \n17   7.879709   3.717383   5.920737   3.751713   7.785831   6.092699   \n18   7.919537   4.146333   5.930065   3.658639   8.611827   6.923461   \n19   8.173826   4.920842   6.189289   3.895035   9.705587   8.021412   \n20   7.843526   4.308348   5.850336   3.555002   9.001042   7.318788   \n21   7.667450   4.135844   5.674258   3.380592   8.898175   7.220861   \n22  10.732743   6.324118   9.449256   8.435601   2.904172   2.158093   \n23   9.806816   5.143221   8.320542   7.035670   3.900291   2.445033   \n24   9.093281   4.380107   7.278645   5.424354   6.294362   4.620595   \n25   8.763471   4.290524   6.849439   4.782193   7.314542   5.617910   \n26   9.006819   4.844919   7.036376   4.820989   8.361805   6.663374   \n27   9.728736   6.574643   7.763261   5.493046  11.017048   9.317381   \n28   7.389361   4.108847   5.398756   3.099113   9.134081   7.471357   \n29   7.839071   4.225191   5.846215   3.556822   8.858646   7.175008   \n30  10.473616   5.783385   8.629165   6.678252   7.044675   5.464122   \n31  12.062312   7.357686  10.217456   8.241071   7.846785   6.421939   \n32  10.698086   6.484299   8.723542   6.488309   9.242365   7.586354   \n33  11.753554   7.752742   9.762329   7.477977  10.616427   8.972707   \n34  13.946929   9.295478  12.061140   9.991890   9.589496   8.272369   \n35  13.518335   9.061270  11.569990   9.383259  10.334840   8.869405   \n36  15.683039  11.111572  13.759062  11.611820  11.472995  10.196286   \n37   7.934935   3.567574   6.008462   3.929919   7.302015   5.605548   \n38   2.753349   3.097046   0.846194   1.602413   9.054092   7.841978   \n\n          M4R       M4S       M4T       M4V  ...       M5X        M6G  \\\n0   10.063112  8.322152  7.414142  8.701328  ...  7.839071  10.473616   \n1    5.868387  4.034848  2.734048  3.933596  ...  4.225191   5.783385   \n2    8.906815  7.089083  5.910160  7.081630  ...  5.846215   8.629165   \n3    8.110172  6.298570  4.769478  5.626740  ...  3.556822   6.678252   \n4    1.955339  2.632796  4.295660  4.711171  ...  8.858646   7.044675   \n5    1.281433  0.943108  2.636836  3.032251  ...  7.175008   5.464122   \n6         NaN  1.833697  3.393753  3.250699  ...  7.674536   5.272043   \n7    1.833697       NaN  1.700517  2.187359  ...  6.232436   4.727545   \n8    3.393753  1.700517       NaN  1.406302  ...  4.572009   3.879378   \n9    3.250699  2.187359  1.406302       NaN  ...  4.456843   2.609502   \n10   4.581359  2.897105  1.201437  1.968859  ...  3.480257   3.798539   \n11   6.094387  4.383617  2.706006  3.318941  ...  2.469844   4.430266   \n12   5.794137  4.297683  2.634811  2.658822  ...  1.937947   3.204238   \n13   7.701296  6.007923  4.323720  4.781764  ...  1.862439   5.275803   \n14   6.818634  5.299937  3.617285  3.668900  ...  1.007026   3.778137   \n15   7.506144  5.968008  4.276777  4.358661  ...  0.649957   4.299174   \n16   8.268344  6.733543  5.040965  5.104701  ...  0.830307   4.833504   \n17   6.549227  5.153458  3.529844  3.322972  ...  1.135325   3.116125   \n18   7.399482  5.981999  4.334957  4.173322  ...  0.301148   3.719695   \n19   8.506602  7.078978  5.418548  5.276623  ...  0.846972   4.585344   \n20   7.823398  6.376029  4.712338  4.606867  ...  0.150288   4.135933   \n21   7.750449  6.277763  4.604990  4.548557  ...  0.200381   4.184869   \n22   0.995502  2.411767  3.667834  3.121481  ...  7.564294   4.705367   \n23   2.097979  1.991539  2.412535  1.481190  ...  5.877010   3.177323   \n24   4.741316  3.767262  2.609211  1.588667  ...  3.292364   1.406510   \n25   5.871506  4.713467  3.282297  2.635065  ...  2.137085   1.968777   \n26   6.923214  5.751703  4.264159  3.689446  ...  1.528603   2.567567   \n27   9.646448  8.387195  6.797024  6.400876  ...  2.375937   5.049631   \n28   8.053892  6.529389  4.839679  4.884736  ...  0.639397   4.626783   \n29   7.674536  6.232436  4.572009  4.456843  ...       NaN   4.007663   \n30   5.272043  4.727545  3.879378  2.609502  ...  4.007663        NaN   \n31   5.937171  5.829628  5.285242  3.914871  ...  5.351100   1.589577   \n32   7.580243  6.745172  5.488191  4.561637  ...  3.023503   2.412284   \n33   8.912698  8.142737  6.892903  5.956454  ...  3.921535   3.660831   \n34   7.641361  7.749258  7.277337  5.901752  ...  6.813078   3.515914   \n35   8.434622  8.215747  7.428470  6.157602  ...  5.974072   3.556112   \n36   9.518870  9.688056  9.195643  7.830734  ...  8.250047   5.376397   \n37   6.040353  4.669344  3.072917  2.810844  ...  1.647482   2.785924   \n38   8.955604  7.122522  5.793444  6.854314  ...  5.150111   8.181510   \n\n          M6H        M6J        M6K        M6P        M6R        M6S  \\\n0   12.062312  10.698086  11.753554  13.946929  13.518335  15.683039   \n1    7.357686   6.484299   7.752742   9.295478   9.061270  11.111572   \n2   10.217456   8.723542   9.762329  12.061140  11.569990  13.759062   \n3    8.241071   6.488309   7.477977   9.991890   9.383259  11.611820   \n4    7.846785   9.242365  10.616427   9.589496  10.334840  11.472995   \n5    6.421939   7.586354   8.972707   8.272369   8.869405  10.196286   \n6    5.937171   7.580243   8.912698   7.641361   8.434622   9.518870   \n7    5.829628   6.745172   8.142737   7.749258   8.215747   9.688056   \n8    5.285242   5.488191   6.892903   7.277337   7.428470   9.195643   \n9    3.914871   4.561637   5.956454   5.901752   6.157602   7.830734   \n10   5.350226   4.894021   6.262949   7.312639   7.207806   9.167382   \n11   6.016412   4.754242   5.982383   7.862572   7.456229   9.593947   \n12   4.779327   3.561157   4.856812   6.598879   6.193452   8.323325   \n13   6.784561   4.820621   5.783687   8.439081   7.742053   9.992825   \n14   5.274265   3.448645   4.570096   6.940656   6.309204   8.534391   \n15   5.731892   3.598430   4.558349   7.294345   6.533321   8.796065   \n16   6.179661   3.763465   4.515242   7.611477   6.714122   8.998675   \n17   4.593445   2.838799   4.042118   6.254969   5.650724   7.862437   \n18   5.084361   2.853568   3.835866   6.584436   5.791912   8.058752   \n19   5.799509   3.165938   3.773075   7.084139   6.084409   8.371492   \n20   5.462867   3.080928   3.932419   6.899609   6.033877   8.313872   \n21   5.542058   3.221871   4.101854   7.012692   6.173106   8.449717   \n22   5.163840   7.088651   8.365401   6.770424   7.659797   8.617481   \n23   3.983352   5.488900   6.814941   5.830730   6.450411   7.759544   \n24   2.978760   2.978290   4.378892   4.922424   4.863356   6.773907   \n25   3.475872   2.284332   3.660947   5.221223   4.789330   6.919605   \n26   3.830602   1.694110   2.908422   5.303059   4.564471   6.811271   \n27   5.891096   2.936746   2.863202   6.736456   5.467724   7.687040   \n28   5.988286   3.626616   4.434164   7.447022   6.579647   8.860959   \n29   5.351100   3.023503   3.921535   6.813078   5.974072   8.250047   \n30   1.589577   2.412284   3.660831   3.515914   3.556112   5.376397   \n31        NaN   2.963362   3.748829   1.992460   2.499507   3.915863   \n32   2.963362        NaN   1.406868   3.936572   2.953063   5.235464   \n33   3.748829   1.406868        NaN   4.034113   2.638916   4.824929   \n34   1.992460   3.936572   4.034113        NaN   1.561511   1.940547   \n35   2.499507   2.953063   2.638916   1.561511        NaN   2.287468   \n36   3.915863   5.235464   4.824929   1.940547   2.287468        NaN   \n37   4.320496   2.916834   4.212490   6.071740   5.591261   7.752047   \n38   9.759977   8.090298   9.071211  11.551610  10.978774  13.198446   \n\n         M7A        M7Y  \n0   7.934935   2.753349  \n1   3.567574   3.097046  \n2   6.008462   0.846194  \n3   3.929919   1.602413  \n4   7.302015   9.054092  \n5   5.605548   7.841978  \n6   6.040353   8.955604  \n7   4.669344   7.122522  \n8   3.072917   5.793444  \n9   2.810844   6.854314  \n10  2.146866   4.885471  \n11  1.868983   3.764616  \n12  0.645989   4.980673  \n13  2.493402   3.290132  \n14  1.025286   4.669731  \n15  1.652620   4.520923  \n16  2.345001   4.627630  \n17  0.512339   5.336187  \n18  1.362540   5.259661  \n19  2.467533   5.433001  \n20  1.797721   5.141315  \n21  1.750606   4.969776  \n22  5.917125   9.418876  \n23  4.232225   8.174135  \n24  1.743898   6.874276  \n25  0.852526   6.331044  \n26  1.321476   6.419616  \n27  3.727148   6.975573  \n28  2.122230   4.665030  \n29  1.647482   5.150111  \n30  2.785924   8.181510  \n31  4.320496   9.759977  \n32  2.916834   8.090298  \n33  4.212490   9.071211  \n34  6.071740  11.551610  \n35  5.591261  10.978774  \n36  7.752047  13.198446  \n37       NaN   5.479882  \n38  5.479882        NaN  \n\n[39 rows x 39 columns]"
                    },
                    "execution_count": 106,
                    "metadata": {},
                    "output_type": "execute_result"
                }
            ],
            "source": "df_distance"
        },
        {
            "cell_type": "code",
            "execution_count": 108,
            "metadata": {},
            "outputs": [
                {
                    "data": {
                        "text/plain": "M4E    8.493136\nM4K    4.823965\nM4L    6.756491\nM4M    5.159432\nM4N    7.533915\nM4P    6.064550\nM4R    6.414585\nM4S    5.372972\nM4T    4.405812\nM4V    4.278318\nM4W    3.976880\nM4X    3.881895\nM4Y    3.509186\nM5A    4.225477\nM5B    3.554285\nM5C    3.753176\nM5E    4.137577\nM5G    3.481975\nM5H    3.664410\nM5J    4.273168\nM5K    3.830208\nM5L    3.794566\nM5N    6.364067\nM5P    5.125036\nM5R    3.876949\nM5S    3.619454\nM5T    3.780299\nM5V    5.303702\nM5W    3.992388\nM5X    3.759525\nM6G    4.434513\nM6H    5.451730\nM6J    4.648310\nM6K    5.615818\nM6P    6.875563\nM6R    6.559978\nM6S    8.440578\nM7A    3.465936\nM7Y    6.345275\ndtype: float64"
                    },
                    "execution_count": 108,
                    "metadata": {},
                    "output_type": "execute_result"
                }
            ],
            "source": "# Show mean distance between postcodes\ndf_distance.mean()"
        },
        {
            "cell_type": "markdown",
            "metadata": {},
            "source": "### Conclusion: Average radius shold be fine with 1000 Meter"
        },
        {
            "cell_type": "code",
            "execution_count": 46,
            "metadata": {},
            "outputs": [],
            "source": "# The code was removed by Watson Studio for sharing."
        },
        {
            "cell_type": "markdown",
            "metadata": {},
            "source": "### Fetch data from foursquare"
        },
        {
            "cell_type": "code",
            "execution_count": 109,
            "metadata": {},
            "outputs": [
                {
                    "name": "stdout",
                    "output_type": "stream",
                    "text": "M4E\nM4K\nM4L\nM4M\nM4N\nM4P\nM4R\nM4S\nM4T\nM4V\nM4W\nM4X\nM4Y\nM5A\nM5B\nM5C\nM5E\nM5G\nM5H\nM5J\nM5K\nM5L\nM5N\nM5P\nM5R\nM5S\nM5T\nM5V\nM5W\nM5X\nM6G\nM6H\nM6J\nM6K\nM6P\nM6R\nM6S\nM7A\nM7Y\n"
                },
                {
                    "data": {
                        "text/html": "<div>\n<style scoped>\n    .dataframe tbody tr th:only-of-type {\n        vertical-align: middle;\n    }\n\n    .dataframe tbody tr th {\n        vertical-align: top;\n    }\n\n    .dataframe thead th {\n        text-align: right;\n    }\n</style>\n<table border=\"1\" class=\"dataframe\">\n  <thead>\n    <tr style=\"text-align: right;\">\n      <th></th>\n      <th>PostalCode</th>\n      <th>Venue Category</th>\n    </tr>\n  </thead>\n  <tbody>\n    <tr>\n      <th>0</th>\n      <td>M4E</td>\n      <td>Trail</td>\n    </tr>\n    <tr>\n      <th>1</th>\n      <td>M4E</td>\n      <td>Vegetarian / Vegan Restaurant</td>\n    </tr>\n    <tr>\n      <th>2</th>\n      <td>M4E</td>\n      <td>Gastropub</td>\n    </tr>\n    <tr>\n      <th>3</th>\n      <td>M4E</td>\n      <td>Indie Movie Theater</td>\n    </tr>\n    <tr>\n      <th>4</th>\n      <td>M4E</td>\n      <td>Bakery</td>\n    </tr>\n  </tbody>\n</table>\n</div>",
                        "text/plain": "  PostalCode                 Venue Category\n0        M4E                          Trail\n1        M4E  Vegetarian / Vegan Restaurant\n2        M4E                      Gastropub\n3        M4E            Indie Movie Theater\n4        M4E                         Bakery"
                    },
                    "execution_count": 109,
                    "metadata": {},
                    "output_type": "execute_result"
                }
            ],
            "source": "import json\ntoronto_venues_list = []\n\nfor index, item in df_toronto.iterrows():\n    print(item['PostalCode'])\n\n    params = dict(\n      client_id=CLIENT_ID,\n      client_secret=CLIENT_SECRET,\n      v=VERSION,\n      ll=f\"{item['Latitude']},{item['Longitude']}\",\n      radius=1000,\n      limit=100\n    )\n    results = requests.get(url, params=params).json()\n \n    venues = results['response']['groups'][0]['items']\n\n    for venue in venues:\n\n        toronto_venues_list.append(\n        (item['PostalCode'], venue['venue']['categories'][0]['name'])\n        )\n\ndf_toronto_venues = pd.DataFrame(data=toronto_venues_list, columns=['PostalCode', 'Venue Category'])\ndf_toronto_venues.head()\n"
        },
        {
            "cell_type": "code",
            "execution_count": 110,
            "metadata": {},
            "outputs": [
                {
                    "data": {
                        "text/plain": "(3184, 2)"
                    },
                    "execution_count": 110,
                    "metadata": {},
                    "output_type": "execute_result"
                }
            ],
            "source": "df_toronto_venues.shape"
        },
        {
            "cell_type": "code",
            "execution_count": 111,
            "metadata": {},
            "outputs": [
                {
                    "data": {
                        "text/html": "<div>\n<style scoped>\n    .dataframe tbody tr th:only-of-type {\n        vertical-align: middle;\n    }\n\n    .dataframe tbody tr th {\n        vertical-align: top;\n    }\n\n    .dataframe thead th {\n        text-align: right;\n    }\n</style>\n<table border=\"1\" class=\"dataframe\">\n  <thead>\n    <tr style=\"text-align: right;\">\n      <th></th>\n      <th>Venue Category</th>\n    </tr>\n    <tr>\n      <th>PostalCode</th>\n      <th></th>\n    </tr>\n  </thead>\n  <tbody>\n    <tr>\n      <th>M4E</th>\n      <td>76</td>\n    </tr>\n    <tr>\n      <th>M4K</th>\n      <td>100</td>\n    </tr>\n    <tr>\n      <th>M4L</th>\n      <td>81</td>\n    </tr>\n    <tr>\n      <th>M4M</th>\n      <td>100</td>\n    </tr>\n    <tr>\n      <th>M4N</th>\n      <td>8</td>\n    </tr>\n    <tr>\n      <th>M4P</th>\n      <td>100</td>\n    </tr>\n    <tr>\n      <th>M4R</th>\n      <td>44</td>\n    </tr>\n    <tr>\n      <th>M4S</th>\n      <td>100</td>\n    </tr>\n    <tr>\n      <th>M4T</th>\n      <td>62</td>\n    </tr>\n    <tr>\n      <th>M4V</th>\n      <td>79</td>\n    </tr>\n    <tr>\n      <th>M4W</th>\n      <td>24</td>\n    </tr>\n    <tr>\n      <th>M4X</th>\n      <td>36</td>\n    </tr>\n    <tr>\n      <th>M4Y</th>\n      <td>100</td>\n    </tr>\n    <tr>\n      <th>M5A</th>\n      <td>100</td>\n    </tr>\n    <tr>\n      <th>M5B</th>\n      <td>100</td>\n    </tr>\n    <tr>\n      <th>M5C</th>\n      <td>100</td>\n    </tr>\n    <tr>\n      <th>M5E</th>\n      <td>100</td>\n    </tr>\n    <tr>\n      <th>M5G</th>\n      <td>100</td>\n    </tr>\n    <tr>\n      <th>M5H</th>\n      <td>100</td>\n    </tr>\n    <tr>\n      <th>M5J</th>\n      <td>100</td>\n    </tr>\n    <tr>\n      <th>M5K</th>\n      <td>100</td>\n    </tr>\n    <tr>\n      <th>M5L</th>\n      <td>100</td>\n    </tr>\n    <tr>\n      <th>M5N</th>\n      <td>24</td>\n    </tr>\n    <tr>\n      <th>M5P</th>\n      <td>46</td>\n    </tr>\n    <tr>\n      <th>M5R</th>\n      <td>100</td>\n    </tr>\n    <tr>\n      <th>M5S</th>\n      <td>100</td>\n    </tr>\n    <tr>\n      <th>M5T</th>\n      <td>100</td>\n    </tr>\n    <tr>\n      <th>M5V</th>\n      <td>14</td>\n    </tr>\n    <tr>\n      <th>M5W</th>\n      <td>100</td>\n    </tr>\n    <tr>\n      <th>M5X</th>\n      <td>100</td>\n    </tr>\n    <tr>\n      <th>M6G</th>\n      <td>100</td>\n    </tr>\n    <tr>\n      <th>M6H</th>\n      <td>67</td>\n    </tr>\n    <tr>\n      <th>M6J</th>\n      <td>100</td>\n    </tr>\n    <tr>\n      <th>M6K</th>\n      <td>100</td>\n    </tr>\n    <tr>\n      <th>M6P</th>\n      <td>100</td>\n    </tr>\n    <tr>\n      <th>M6R</th>\n      <td>100</td>\n    </tr>\n    <tr>\n      <th>M6S</th>\n      <td>75</td>\n    </tr>\n    <tr>\n      <th>M7A</th>\n      <td>100</td>\n    </tr>\n    <tr>\n      <th>M7Y</th>\n      <td>48</td>\n    </tr>\n  </tbody>\n</table>\n</div>",
                        "text/plain": "            Venue Category\nPostalCode                \nM4E                     76\nM4K                    100\nM4L                     81\nM4M                    100\nM4N                      8\nM4P                    100\nM4R                     44\nM4S                    100\nM4T                     62\nM4V                     79\nM4W                     24\nM4X                     36\nM4Y                    100\nM5A                    100\nM5B                    100\nM5C                    100\nM5E                    100\nM5G                    100\nM5H                    100\nM5J                    100\nM5K                    100\nM5L                    100\nM5N                     24\nM5P                     46\nM5R                    100\nM5S                    100\nM5T                    100\nM5V                     14\nM5W                    100\nM5X                    100\nM6G                    100\nM6H                     67\nM6J                    100\nM6K                    100\nM6P                    100\nM6R                    100\nM6S                     75\nM7A                    100\nM7Y                     48"
                    },
                    "execution_count": 111,
                    "metadata": {},
                    "output_type": "execute_result"
                }
            ],
            "source": "df_toronto_venues.groupby('PostalCode').count()"
        },
        {
            "cell_type": "markdown",
            "metadata": {},
            "source": "### Find unique categories"
        },
        {
            "cell_type": "code",
            "execution_count": 112,
            "metadata": {
                "scrolled": true
            },
            "outputs": [
                {
                    "data": {
                        "text/plain": "272"
                    },
                    "execution_count": 112,
                    "metadata": {},
                    "output_type": "execute_result"
                }
            ],
            "source": "len(df_toronto_venues['Venue Category'].unique())"
        },
        {
            "cell_type": "markdown",
            "metadata": {},
            "source": "### Analyze by Postal code"
        },
        {
            "cell_type": "code",
            "execution_count": 113,
            "metadata": {},
            "outputs": [
                {
                    "data": {
                        "text/html": "<div>\n<style scoped>\n    .dataframe tbody tr th:only-of-type {\n        vertical-align: middle;\n    }\n\n    .dataframe tbody tr th {\n        vertical-align: top;\n    }\n\n    .dataframe thead th {\n        text-align: right;\n    }\n</style>\n<table border=\"1\" class=\"dataframe\">\n  <thead>\n    <tr style=\"text-align: right;\">\n      <th></th>\n      <th>PostalCode</th>\n      <th>Accessories Store</th>\n      <th>Afghan Restaurant</th>\n      <th>Airport</th>\n      <th>Airport Lounge</th>\n      <th>American Restaurant</th>\n      <th>Amphitheater</th>\n      <th>Animal Shelter</th>\n      <th>Antique Shop</th>\n      <th>Aquarium</th>\n      <th>...</th>\n      <th>Vegetarian / Vegan Restaurant</th>\n      <th>Video Game Store</th>\n      <th>Video Store</th>\n      <th>Vietnamese Restaurant</th>\n      <th>Whisky Bar</th>\n      <th>Wine Bar</th>\n      <th>Wine Shop</th>\n      <th>Wings Joint</th>\n      <th>Yoga Studio</th>\n      <th>Zoo</th>\n    </tr>\n  </thead>\n  <tbody>\n    <tr>\n      <th>0</th>\n      <td>M4E</td>\n      <td>0</td>\n      <td>0</td>\n      <td>0</td>\n      <td>0</td>\n      <td>0</td>\n      <td>0</td>\n      <td>0</td>\n      <td>0</td>\n      <td>0</td>\n      <td>...</td>\n      <td>0</td>\n      <td>0</td>\n      <td>0</td>\n      <td>0</td>\n      <td>0</td>\n      <td>0</td>\n      <td>0</td>\n      <td>0</td>\n      <td>0</td>\n      <td>0</td>\n    </tr>\n    <tr>\n      <th>1</th>\n      <td>M4E</td>\n      <td>0</td>\n      <td>0</td>\n      <td>0</td>\n      <td>0</td>\n      <td>0</td>\n      <td>0</td>\n      <td>0</td>\n      <td>0</td>\n      <td>0</td>\n      <td>...</td>\n      <td>1</td>\n      <td>0</td>\n      <td>0</td>\n      <td>0</td>\n      <td>0</td>\n      <td>0</td>\n      <td>0</td>\n      <td>0</td>\n      <td>0</td>\n      <td>0</td>\n    </tr>\n    <tr>\n      <th>2</th>\n      <td>M4E</td>\n      <td>0</td>\n      <td>0</td>\n      <td>0</td>\n      <td>0</td>\n      <td>0</td>\n      <td>0</td>\n      <td>0</td>\n      <td>0</td>\n      <td>0</td>\n      <td>...</td>\n      <td>0</td>\n      <td>0</td>\n      <td>0</td>\n      <td>0</td>\n      <td>0</td>\n      <td>0</td>\n      <td>0</td>\n      <td>0</td>\n      <td>0</td>\n      <td>0</td>\n    </tr>\n    <tr>\n      <th>3</th>\n      <td>M4E</td>\n      <td>0</td>\n      <td>0</td>\n      <td>0</td>\n      <td>0</td>\n      <td>0</td>\n      <td>0</td>\n      <td>0</td>\n      <td>0</td>\n      <td>0</td>\n      <td>...</td>\n      <td>0</td>\n      <td>0</td>\n      <td>0</td>\n      <td>0</td>\n      <td>0</td>\n      <td>0</td>\n      <td>0</td>\n      <td>0</td>\n      <td>0</td>\n      <td>0</td>\n    </tr>\n    <tr>\n      <th>4</th>\n      <td>M4E</td>\n      <td>0</td>\n      <td>0</td>\n      <td>0</td>\n      <td>0</td>\n      <td>0</td>\n      <td>0</td>\n      <td>0</td>\n      <td>0</td>\n      <td>0</td>\n      <td>...</td>\n      <td>0</td>\n      <td>0</td>\n      <td>0</td>\n      <td>0</td>\n      <td>0</td>\n      <td>0</td>\n      <td>0</td>\n      <td>0</td>\n      <td>0</td>\n      <td>0</td>\n    </tr>\n  </tbody>\n</table>\n<p>5 rows \u00d7 273 columns</p>\n</div>",
                        "text/plain": "  PostalCode  Accessories Store  Afghan Restaurant  Airport  Airport Lounge  \\\n0        M4E                  0                  0        0               0   \n1        M4E                  0                  0        0               0   \n2        M4E                  0                  0        0               0   \n3        M4E                  0                  0        0               0   \n4        M4E                  0                  0        0               0   \n\n   American Restaurant  Amphitheater  Animal Shelter  Antique Shop  Aquarium  \\\n0                    0             0               0             0         0   \n1                    0             0               0             0         0   \n2                    0             0               0             0         0   \n3                    0             0               0             0         0   \n4                    0             0               0             0         0   \n\n   ...  Vegetarian / Vegan Restaurant  Video Game Store  Video Store  \\\n0  ...                              0                 0            0   \n1  ...                              1                 0            0   \n2  ...                              0                 0            0   \n3  ...                              0                 0            0   \n4  ...                              0                 0            0   \n\n   Vietnamese Restaurant  Whisky Bar  Wine Bar  Wine Shop  Wings Joint  \\\n0                      0           0         0          0            0   \n1                      0           0         0          0            0   \n2                      0           0         0          0            0   \n3                      0           0         0          0            0   \n4                      0           0         0          0            0   \n\n   Yoga Studio  Zoo  \n0            0    0  \n1            0    0  \n2            0    0  \n3            0    0  \n4            0    0  \n\n[5 rows x 273 columns]"
                    },
                    "execution_count": 113,
                    "metadata": {},
                    "output_type": "execute_result"
                }
            ],
            "source": "# one hot encoding\ntorento_onehot = pd.get_dummies(df_toronto_venues[['Venue Category']], prefix=\"\", prefix_sep=\"\")\n\n# add postal code\ntorento_onehot['PostalCode'] = df_toronto_venues['PostalCode']\n\n# move column position\nfixed_columns = [torento_onehot.columns[-1]] + list(torento_onehot.columns[:-1])\ntorento_onehot = torento_onehot[fixed_columns]\n\ntorento_onehot.head()"
        },
        {
            "cell_type": "code",
            "execution_count": 114,
            "metadata": {},
            "outputs": [
                {
                    "data": {
                        "text/plain": "(3184, 273)"
                    },
                    "execution_count": 114,
                    "metadata": {},
                    "output_type": "execute_result"
                }
            ],
            "source": "torento_onehot.shape"
        },
        {
            "cell_type": "markdown",
            "metadata": {},
            "source": "### Clean data with mean value"
        },
        {
            "cell_type": "code",
            "execution_count": 115,
            "metadata": {},
            "outputs": [
                {
                    "data": {
                        "text/html": "<div>\n<style scoped>\n    .dataframe tbody tr th:only-of-type {\n        vertical-align: middle;\n    }\n\n    .dataframe tbody tr th {\n        vertical-align: top;\n    }\n\n    .dataframe thead th {\n        text-align: right;\n    }\n</style>\n<table border=\"1\" class=\"dataframe\">\n  <thead>\n    <tr style=\"text-align: right;\">\n      <th></th>\n      <th>PostalCode</th>\n      <th>Accessories Store</th>\n      <th>Afghan Restaurant</th>\n      <th>Airport</th>\n      <th>Airport Lounge</th>\n      <th>American Restaurant</th>\n      <th>Amphitheater</th>\n      <th>Animal Shelter</th>\n      <th>Antique Shop</th>\n      <th>Aquarium</th>\n      <th>...</th>\n      <th>Vegetarian / Vegan Restaurant</th>\n      <th>Video Game Store</th>\n      <th>Video Store</th>\n      <th>Vietnamese Restaurant</th>\n      <th>Whisky Bar</th>\n      <th>Wine Bar</th>\n      <th>Wine Shop</th>\n      <th>Wings Joint</th>\n      <th>Yoga Studio</th>\n      <th>Zoo</th>\n    </tr>\n  </thead>\n  <tbody>\n    <tr>\n      <th>0</th>\n      <td>M4E</td>\n      <td>0.0</td>\n      <td>0.0</td>\n      <td>0.0</td>\n      <td>0.0</td>\n      <td>0.00</td>\n      <td>0.0</td>\n      <td>0.0</td>\n      <td>0.00</td>\n      <td>0.0</td>\n      <td>...</td>\n      <td>0.013158</td>\n      <td>0.0</td>\n      <td>0.0</td>\n      <td>0.00</td>\n      <td>0.0</td>\n      <td>0.00</td>\n      <td>0.0</td>\n      <td>0.0</td>\n      <td>0.000000</td>\n      <td>0.0</td>\n    </tr>\n    <tr>\n      <th>1</th>\n      <td>M4K</td>\n      <td>0.0</td>\n      <td>0.0</td>\n      <td>0.0</td>\n      <td>0.0</td>\n      <td>0.01</td>\n      <td>0.0</td>\n      <td>0.0</td>\n      <td>0.00</td>\n      <td>0.0</td>\n      <td>...</td>\n      <td>0.000000</td>\n      <td>0.0</td>\n      <td>0.0</td>\n      <td>0.00</td>\n      <td>0.0</td>\n      <td>0.00</td>\n      <td>0.0</td>\n      <td>0.0</td>\n      <td>0.020000</td>\n      <td>0.0</td>\n    </tr>\n    <tr>\n      <th>2</th>\n      <td>M4L</td>\n      <td>0.0</td>\n      <td>0.0</td>\n      <td>0.0</td>\n      <td>0.0</td>\n      <td>0.00</td>\n      <td>0.0</td>\n      <td>0.0</td>\n      <td>0.00</td>\n      <td>0.0</td>\n      <td>...</td>\n      <td>0.000000</td>\n      <td>0.0</td>\n      <td>0.0</td>\n      <td>0.00</td>\n      <td>0.0</td>\n      <td>0.00</td>\n      <td>0.0</td>\n      <td>0.0</td>\n      <td>0.012346</td>\n      <td>0.0</td>\n    </tr>\n    <tr>\n      <th>3</th>\n      <td>M4M</td>\n      <td>0.0</td>\n      <td>0.0</td>\n      <td>0.0</td>\n      <td>0.0</td>\n      <td>0.04</td>\n      <td>0.0</td>\n      <td>0.0</td>\n      <td>0.01</td>\n      <td>0.0</td>\n      <td>...</td>\n      <td>0.010000</td>\n      <td>0.0</td>\n      <td>0.0</td>\n      <td>0.04</td>\n      <td>0.0</td>\n      <td>0.01</td>\n      <td>0.0</td>\n      <td>0.0</td>\n      <td>0.010000</td>\n      <td>0.0</td>\n    </tr>\n    <tr>\n      <th>4</th>\n      <td>M4N</td>\n      <td>0.0</td>\n      <td>0.0</td>\n      <td>0.0</td>\n      <td>0.0</td>\n      <td>0.00</td>\n      <td>0.0</td>\n      <td>0.0</td>\n      <td>0.00</td>\n      <td>0.0</td>\n      <td>...</td>\n      <td>0.000000</td>\n      <td>0.0</td>\n      <td>0.0</td>\n      <td>0.00</td>\n      <td>0.0</td>\n      <td>0.00</td>\n      <td>0.0</td>\n      <td>0.0</td>\n      <td>0.000000</td>\n      <td>0.0</td>\n    </tr>\n  </tbody>\n</table>\n<p>5 rows \u00d7 273 columns</p>\n</div>",
                        "text/plain": "  PostalCode  Accessories Store  Afghan Restaurant  Airport  Airport Lounge  \\\n0        M4E                0.0                0.0      0.0             0.0   \n1        M4K                0.0                0.0      0.0             0.0   \n2        M4L                0.0                0.0      0.0             0.0   \n3        M4M                0.0                0.0      0.0             0.0   \n4        M4N                0.0                0.0      0.0             0.0   \n\n   American Restaurant  Amphitheater  Animal Shelter  Antique Shop  Aquarium  \\\n0                 0.00           0.0             0.0          0.00       0.0   \n1                 0.01           0.0             0.0          0.00       0.0   \n2                 0.00           0.0             0.0          0.00       0.0   \n3                 0.04           0.0             0.0          0.01       0.0   \n4                 0.00           0.0             0.0          0.00       0.0   \n\n   ...  Vegetarian / Vegan Restaurant  Video Game Store  Video Store  \\\n0  ...                       0.013158               0.0          0.0   \n1  ...                       0.000000               0.0          0.0   \n2  ...                       0.000000               0.0          0.0   \n3  ...                       0.010000               0.0          0.0   \n4  ...                       0.000000               0.0          0.0   \n\n   Vietnamese Restaurant  Whisky Bar  Wine Bar  Wine Shop  Wings Joint  \\\n0                   0.00         0.0      0.00        0.0          0.0   \n1                   0.00         0.0      0.00        0.0          0.0   \n2                   0.00         0.0      0.00        0.0          0.0   \n3                   0.04         0.0      0.01        0.0          0.0   \n4                   0.00         0.0      0.00        0.0          0.0   \n\n   Yoga Studio  Zoo  \n0     0.000000  0.0  \n1     0.020000  0.0  \n2     0.012346  0.0  \n3     0.010000  0.0  \n4     0.000000  0.0  \n\n[5 rows x 273 columns]"
                    },
                    "execution_count": 115,
                    "metadata": {},
                    "output_type": "execute_result"
                }
            ],
            "source": "toronto_grouped = torento_onehot.groupby('PostalCode').mean().reset_index()\ntoronto_grouped.head()"
        },
        {
            "cell_type": "code",
            "execution_count": 116,
            "metadata": {},
            "outputs": [
                {
                    "data": {
                        "text/plain": "(39, 273)"
                    },
                    "execution_count": 116,
                    "metadata": {},
                    "output_type": "execute_result"
                }
            ],
            "source": "toronto_grouped.shape"
        },
        {
            "cell_type": "markdown",
            "metadata": {},
            "source": "## Assign top venue catories to original data"
        },
        {
            "cell_type": "code",
            "execution_count": 119,
            "metadata": {},
            "outputs": [],
            "source": "def return_most_common_venues(row, num_top_venues):\n    row_categories = row.iloc[1:]\n    row_categories_sorted = row_categories.sort_values(ascending=False)\n    \n    return row_categories_sorted.index.values[0:num_top_venues]"
        },
        {
            "cell_type": "code",
            "execution_count": 122,
            "metadata": {},
            "outputs": [
                {
                    "data": {
                        "text/html": "<div>\n<style scoped>\n    .dataframe tbody tr th:only-of-type {\n        vertical-align: middle;\n    }\n\n    .dataframe tbody tr th {\n        vertical-align: top;\n    }\n\n    .dataframe thead th {\n        text-align: right;\n    }\n</style>\n<table border=\"1\" class=\"dataframe\">\n  <thead>\n    <tr style=\"text-align: right;\">\n      <th></th>\n      <th>PostalCode</th>\n      <th>1st Most Common Venue</th>\n      <th>2nd Most Common Venue</th>\n      <th>3rd Most Common Venue</th>\n      <th>4th Most Common Venue</th>\n      <th>5th Most Common Venue</th>\n      <th>6th Most Common Venue</th>\n      <th>7th Most Common Venue</th>\n      <th>8th Most Common Venue</th>\n      <th>9th Most Common Venue</th>\n      <th>10th Most Common Venue</th>\n    </tr>\n  </thead>\n  <tbody>\n    <tr>\n      <th>0</th>\n      <td>M4E</td>\n      <td>Pub</td>\n      <td>Coffee Shop</td>\n      <td>Pizza Place</td>\n      <td>Park</td>\n      <td>Japanese Restaurant</td>\n      <td>Breakfast Spot</td>\n      <td>Beach</td>\n      <td>Bakery</td>\n      <td>Caribbean Restaurant</td>\n      <td>Sandwich Place</td>\n    </tr>\n    <tr>\n      <th>1</th>\n      <td>M4K</td>\n      <td>Greek Restaurant</td>\n      <td>Coffee Shop</td>\n      <td>Caf\u00e9</td>\n      <td>Pub</td>\n      <td>Pizza Place</td>\n      <td>Fast Food Restaurant</td>\n      <td>Ice Cream Shop</td>\n      <td>Italian Restaurant</td>\n      <td>Bakery</td>\n      <td>Diner</td>\n    </tr>\n    <tr>\n      <th>2</th>\n      <td>M4L</td>\n      <td>Indian Restaurant</td>\n      <td>Grocery Store</td>\n      <td>Coffee Shop</td>\n      <td>Beach</td>\n      <td>Caf\u00e9</td>\n      <td>Gym</td>\n      <td>Sandwich Place</td>\n      <td>Brewery</td>\n      <td>Intersection</td>\n      <td>Burrito Place</td>\n    </tr>\n    <tr>\n      <th>3</th>\n      <td>M4M</td>\n      <td>Coffee Shop</td>\n      <td>Bar</td>\n      <td>Caf\u00e9</td>\n      <td>Bakery</td>\n      <td>American Restaurant</td>\n      <td>Brewery</td>\n      <td>Italian Restaurant</td>\n      <td>Vietnamese Restaurant</td>\n      <td>French Restaurant</td>\n      <td>Diner</td>\n    </tr>\n    <tr>\n      <th>4</th>\n      <td>M4N</td>\n      <td>College Gym</td>\n      <td>Caf\u00e9</td>\n      <td>Park</td>\n      <td>Bookstore</td>\n      <td>Trail</td>\n      <td>Gym / Fitness Center</td>\n      <td>College Quad</td>\n      <td>Coffee Shop</td>\n      <td>Eastern European Restaurant</td>\n      <td>Electronics Store</td>\n    </tr>\n  </tbody>\n</table>\n</div>",
                        "text/plain": "  PostalCode 1st Most Common Venue 2nd Most Common Venue  \\\n0        M4E                   Pub           Coffee Shop   \n1        M4K      Greek Restaurant           Coffee Shop   \n2        M4L     Indian Restaurant         Grocery Store   \n3        M4M           Coffee Shop                   Bar   \n4        M4N           College Gym                  Caf\u00e9   \n\n  3rd Most Common Venue 4th Most Common Venue 5th Most Common Venue  \\\n0           Pizza Place                  Park   Japanese Restaurant   \n1                  Caf\u00e9                   Pub           Pizza Place   \n2           Coffee Shop                 Beach                  Caf\u00e9   \n3                  Caf\u00e9                Bakery   American Restaurant   \n4                  Park             Bookstore                 Trail   \n\n  6th Most Common Venue 7th Most Common Venue  8th Most Common Venue  \\\n0        Breakfast Spot                 Beach                 Bakery   \n1  Fast Food Restaurant        Ice Cream Shop     Italian Restaurant   \n2                   Gym        Sandwich Place                Brewery   \n3               Brewery    Italian Restaurant  Vietnamese Restaurant   \n4  Gym / Fitness Center          College Quad            Coffee Shop   \n\n         9th Most Common Venue 10th Most Common Venue  \n0         Caribbean Restaurant         Sandwich Place  \n1                       Bakery                  Diner  \n2                 Intersection          Burrito Place  \n3            French Restaurant                  Diner  \n4  Eastern European Restaurant      Electronics Store  "
                    },
                    "execution_count": 122,
                    "metadata": {},
                    "output_type": "execute_result"
                }
            ],
            "source": "num_top_venues = 10\n\nindicators = ['st', 'nd', 'rd']\n\n# create columns according to number of top venues\ncolumns = ['PostalCode']\nfor ind in np.arange(num_top_venues):\n    try:\n        columns.append('{}{} Most Common Venue'.format(ind+1, indicators[ind]))\n    except:\n        columns.append('{}th Most Common Venue'.format(ind+1))\n\n# create a new dataframe\nneighborhoods_venues_sorted = pd.DataFrame(columns=columns)\nneighborhoods_venues_sorted['PostalCode'] = toronto_grouped['PostalCode']\n\nfor ind in np.arange(toronto_grouped.shape[0]):\n    neighborhoods_venues_sorted.iloc[ind, 1:] = return_most_common_venues(toronto_grouped.iloc[ind, :], num_top_venues)\n\nneighborhoods_venues_sorted.head()"
        },
        {
            "cell_type": "markdown",
            "metadata": {},
            "source": "# Use K-Mean to cluster data"
        },
        {
            "cell_type": "code",
            "execution_count": 127,
            "metadata": {},
            "outputs": [
                {
                    "data": {
                        "text/plain": "array([1, 1, 1, 1, 2, 0, 0, 0, 0, 0, 0, 1, 1, 0, 1, 1, 1, 1, 1, 1, 1, 1,\n       3, 0, 1, 1, 1, 4, 1, 1, 1, 0, 1, 1, 1, 1, 0, 1, 0], dtype=int32)"
                    },
                    "execution_count": 127,
                    "metadata": {},
                    "output_type": "execute_result"
                }
            ],
            "source": "kclusters = 5\n\ntoronto_grouped_clustering = toronto_grouped.drop('PostalCode', 1)\n\n# run k-means clustering\nkmeans = KMeans(n_clusters=kclusters, random_state=0).fit(toronto_grouped_clustering)\n\n# check cluster labels generated for each row in the dataframe\nkmeans.labels_"
        },
        {
            "cell_type": "markdown",
            "metadata": {},
            "source": "Join data"
        },
        {
            "cell_type": "code",
            "execution_count": 128,
            "metadata": {},
            "outputs": [
                {
                    "data": {
                        "text/html": "<div>\n<style scoped>\n    .dataframe tbody tr th:only-of-type {\n        vertical-align: middle;\n    }\n\n    .dataframe tbody tr th {\n        vertical-align: top;\n    }\n\n    .dataframe thead th {\n        text-align: right;\n    }\n</style>\n<table border=\"1\" class=\"dataframe\">\n  <thead>\n    <tr style=\"text-align: right;\">\n      <th></th>\n      <th>PostalCode</th>\n      <th>Borough</th>\n      <th>Neighbourhood</th>\n      <th>Latitude</th>\n      <th>Longitude</th>\n      <th>Cluster Labels</th>\n      <th>1st Most Common Venue</th>\n      <th>2nd Most Common Venue</th>\n      <th>3rd Most Common Venue</th>\n      <th>4th Most Common Venue</th>\n      <th>5th Most Common Venue</th>\n      <th>6th Most Common Venue</th>\n      <th>7th Most Common Venue</th>\n      <th>8th Most Common Venue</th>\n      <th>9th Most Common Venue</th>\n      <th>10th Most Common Venue</th>\n    </tr>\n  </thead>\n  <tbody>\n    <tr>\n      <th>37</th>\n      <td>M4E</td>\n      <td>East Toronto</td>\n      <td>The Beaches</td>\n      <td>43.676357</td>\n      <td>-79.293031</td>\n      <td>1</td>\n      <td>Pub</td>\n      <td>Coffee Shop</td>\n      <td>Pizza Place</td>\n      <td>Park</td>\n      <td>Japanese Restaurant</td>\n      <td>Breakfast Spot</td>\n      <td>Beach</td>\n      <td>Bakery</td>\n      <td>Caribbean Restaurant</td>\n      <td>Sandwich Place</td>\n    </tr>\n    <tr>\n      <th>41</th>\n      <td>M4K</td>\n      <td>East Toronto</td>\n      <td>The Danforth West, Riverdale</td>\n      <td>43.679557</td>\n      <td>-79.352188</td>\n      <td>1</td>\n      <td>Greek Restaurant</td>\n      <td>Coffee Shop</td>\n      <td>Caf\u00e9</td>\n      <td>Pub</td>\n      <td>Pizza Place</td>\n      <td>Fast Food Restaurant</td>\n      <td>Ice Cream Shop</td>\n      <td>Italian Restaurant</td>\n      <td>Bakery</td>\n      <td>Diner</td>\n    </tr>\n    <tr>\n      <th>42</th>\n      <td>M4L</td>\n      <td>East Toronto</td>\n      <td>The Beaches West, India Bazaar</td>\n      <td>43.668999</td>\n      <td>-79.315572</td>\n      <td>1</td>\n      <td>Indian Restaurant</td>\n      <td>Grocery Store</td>\n      <td>Coffee Shop</td>\n      <td>Beach</td>\n      <td>Caf\u00e9</td>\n      <td>Gym</td>\n      <td>Sandwich Place</td>\n      <td>Brewery</td>\n      <td>Intersection</td>\n      <td>Burrito Place</td>\n    </tr>\n    <tr>\n      <th>43</th>\n      <td>M4M</td>\n      <td>East Toronto</td>\n      <td>Studio District</td>\n      <td>43.659526</td>\n      <td>-79.340923</td>\n      <td>1</td>\n      <td>Coffee Shop</td>\n      <td>Bar</td>\n      <td>Caf\u00e9</td>\n      <td>Bakery</td>\n      <td>American Restaurant</td>\n      <td>Brewery</td>\n      <td>Italian Restaurant</td>\n      <td>Vietnamese Restaurant</td>\n      <td>French Restaurant</td>\n      <td>Diner</td>\n    </tr>\n    <tr>\n      <th>44</th>\n      <td>M4N</td>\n      <td>Central Toronto</td>\n      <td>Lawrence Park</td>\n      <td>43.728020</td>\n      <td>-79.388790</td>\n      <td>2</td>\n      <td>College Gym</td>\n      <td>Caf\u00e9</td>\n      <td>Park</td>\n      <td>Bookstore</td>\n      <td>Trail</td>\n      <td>Gym / Fitness Center</td>\n      <td>College Quad</td>\n      <td>Coffee Shop</td>\n      <td>Eastern European Restaurant</td>\n      <td>Electronics Store</td>\n    </tr>\n  </tbody>\n</table>\n</div>",
                        "text/plain": "   PostalCode          Borough                   Neighbourhood   Latitude  \\\n37        M4E     East Toronto                     The Beaches  43.676357   \n41        M4K     East Toronto    The Danforth West, Riverdale  43.679557   \n42        M4L     East Toronto  The Beaches West, India Bazaar  43.668999   \n43        M4M     East Toronto                 Studio District  43.659526   \n44        M4N  Central Toronto                   Lawrence Park  43.728020   \n\n    Longitude  Cluster Labels 1st Most Common Venue 2nd Most Common Venue  \\\n37 -79.293031               1                   Pub           Coffee Shop   \n41 -79.352188               1      Greek Restaurant           Coffee Shop   \n42 -79.315572               1     Indian Restaurant         Grocery Store   \n43 -79.340923               1           Coffee Shop                   Bar   \n44 -79.388790               2           College Gym                  Caf\u00e9   \n\n   3rd Most Common Venue 4th Most Common Venue 5th Most Common Venue  \\\n37           Pizza Place                  Park   Japanese Restaurant   \n41                  Caf\u00e9                   Pub           Pizza Place   \n42           Coffee Shop                 Beach                  Caf\u00e9   \n43                  Caf\u00e9                Bakery   American Restaurant   \n44                  Park             Bookstore                 Trail   \n\n   6th Most Common Venue 7th Most Common Venue  8th Most Common Venue  \\\n37        Breakfast Spot                 Beach                 Bakery   \n41  Fast Food Restaurant        Ice Cream Shop     Italian Restaurant   \n42                   Gym        Sandwich Place                Brewery   \n43               Brewery    Italian Restaurant  Vietnamese Restaurant   \n44  Gym / Fitness Center          College Quad            Coffee Shop   \n\n          9th Most Common Venue 10th Most Common Venue  \n37         Caribbean Restaurant         Sandwich Place  \n41                       Bakery                  Diner  \n42                 Intersection          Burrito Place  \n43            French Restaurant                  Diner  \n44  Eastern European Restaurant      Electronics Store  "
                    },
                    "execution_count": 128,
                    "metadata": {},
                    "output_type": "execute_result"
                }
            ],
            "source": "# add clustering labels\nneighborhoods_venues_sorted.insert(0, 'Cluster Labels', kmeans.labels_)\n\ntoronto_merged = df_toronto\n\n# merge toronto_grouped with toronto_data to add latitude/longitude for each neighborhood\ntoronto_merged = toronto_merged.join(neighborhoods_venues_sorted.set_index('PostalCode'), on='PostalCode')\n\ntoronto_merged.head() # check the last columns!"
        },
        {
            "cell_type": "markdown",
            "metadata": {},
            "source": "## Create map"
        },
        {
            "cell_type": "code",
            "execution_count": 129,
            "metadata": {},
            "outputs": [
                {
                    "ename": "NameError",
                    "evalue": "name 'cm' is not defined",
                    "output_type": "error",
                    "traceback": [
                        "\u001b[0;31m---------------------------------------------------------------------------\u001b[0m",
                        "\u001b[0;31mNameError\u001b[0m                                 Traceback (most recent call last)",
                        "\u001b[0;32m<ipython-input-129-2f1d8e5d1532>\u001b[0m in \u001b[0;36m<module>\u001b[0;34m\u001b[0m\n\u001b[1;32m      5\u001b[0m \u001b[0mx\u001b[0m \u001b[0;34m=\u001b[0m \u001b[0mnp\u001b[0m\u001b[0;34m.\u001b[0m\u001b[0marange\u001b[0m\u001b[0;34m(\u001b[0m\u001b[0mkclusters\u001b[0m\u001b[0;34m)\u001b[0m\u001b[0;34m\u001b[0m\u001b[0;34m\u001b[0m\u001b[0m\n\u001b[1;32m      6\u001b[0m \u001b[0mys\u001b[0m \u001b[0;34m=\u001b[0m \u001b[0;34m[\u001b[0m\u001b[0mi\u001b[0m \u001b[0;34m+\u001b[0m \u001b[0mx\u001b[0m \u001b[0;34m+\u001b[0m \u001b[0;34m(\u001b[0m\u001b[0mi\u001b[0m\u001b[0;34m*\u001b[0m\u001b[0mx\u001b[0m\u001b[0;34m)\u001b[0m\u001b[0;34m**\u001b[0m\u001b[0;36m2\u001b[0m \u001b[0;32mfor\u001b[0m \u001b[0mi\u001b[0m \u001b[0;32min\u001b[0m \u001b[0mrange\u001b[0m\u001b[0;34m(\u001b[0m\u001b[0mkclusters\u001b[0m\u001b[0;34m)\u001b[0m\u001b[0;34m]\u001b[0m\u001b[0;34m\u001b[0m\u001b[0;34m\u001b[0m\u001b[0m\n\u001b[0;32m----> 7\u001b[0;31m \u001b[0mcolors_array\u001b[0m \u001b[0;34m=\u001b[0m \u001b[0mcm\u001b[0m\u001b[0;34m.\u001b[0m\u001b[0mrainbow\u001b[0m\u001b[0;34m(\u001b[0m\u001b[0mnp\u001b[0m\u001b[0;34m.\u001b[0m\u001b[0mlinspace\u001b[0m\u001b[0;34m(\u001b[0m\u001b[0;36m0\u001b[0m\u001b[0;34m,\u001b[0m \u001b[0;36m1\u001b[0m\u001b[0;34m,\u001b[0m \u001b[0mlen\u001b[0m\u001b[0;34m(\u001b[0m\u001b[0mys\u001b[0m\u001b[0;34m)\u001b[0m\u001b[0;34m)\u001b[0m\u001b[0;34m)\u001b[0m\u001b[0;34m\u001b[0m\u001b[0;34m\u001b[0m\u001b[0m\n\u001b[0m\u001b[1;32m      8\u001b[0m \u001b[0mrainbow\u001b[0m \u001b[0;34m=\u001b[0m \u001b[0;34m[\u001b[0m\u001b[0mcolors\u001b[0m\u001b[0;34m.\u001b[0m\u001b[0mrgb2hex\u001b[0m\u001b[0;34m(\u001b[0m\u001b[0mi\u001b[0m\u001b[0;34m)\u001b[0m \u001b[0;32mfor\u001b[0m \u001b[0mi\u001b[0m \u001b[0;32min\u001b[0m \u001b[0mcolors_array\u001b[0m\u001b[0;34m]\u001b[0m\u001b[0;34m\u001b[0m\u001b[0;34m\u001b[0m\u001b[0m\n\u001b[1;32m      9\u001b[0m \u001b[0;34m\u001b[0m\u001b[0m\n",
                        "\u001b[0;31mNameError\u001b[0m: name 'cm' is not defined"
                    ]
                }
            ],
            "source": "# create map\nmap_clusters = folium.Map(location=['43.6532', '-79.3832'], zoom_start=11)\n\n# set color scheme for the clusters\nx = np.arange(kclusters)\nys = [i + x + (i*x)**2 for i in range(kclusters)]\ncolors_array = cm.rainbow(np.linspace(0, 1, len(ys)))\nrainbow = [colors.rgb2hex(i) for i in colors_array]\n\n# add markers to the map\nmarkers_colors = []\nfor lat, lon, poi, cluster in zip(toronto_merged['Latitude'], toronto_merged['Longitude'], toronto_merged['PostCode'], toronto_merged['Cluster Labels']):\n    label = folium.Popup(str(poi) + ' Cluster ' + str(cluster), parse_html=True)\n    folium.CircleMarker(\n        [lat, lon],\n        radius=5,\n        popup=label,\n        color=rainbow[cluster-1],\n        fill=True,\n        fill_color=rainbow[cluster-1],\n        fill_opacity=0.7).add_to(map_clusters)\n       \nmap_clusters"
        },
        {
            "cell_type": "code",
            "execution_count": null,
            "metadata": {},
            "outputs": [],
            "source": ""
        }
    ],
    "metadata": {
        "kernelspec": {
            "display_name": "Python 3.6",
            "language": "python",
            "name": "python3"
        },
        "language_info": {
            "codemirror_mode": {
                "name": "ipython",
                "version": 3
            },
            "file_extension": ".py",
            "mimetype": "text/x-python",
            "name": "python",
            "nbconvert_exporter": "python",
            "pygments_lexer": "ipython3",
            "version": "3.6.9"
        }
    },
    "nbformat": 4,
    "nbformat_minor": 1
}